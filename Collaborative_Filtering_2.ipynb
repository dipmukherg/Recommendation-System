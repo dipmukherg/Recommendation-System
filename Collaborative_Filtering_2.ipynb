{
  "nbformat": 4,
  "nbformat_minor": 0,
  "metadata": {
    "colab": {
      "name": "Data_mining_Assignment1_Exercise2.ipynb",
      "provenance": []
    },
    "kernelspec": {
      "name": "python3",
      "display_name": "Python 3"
    },
    "language_info": {
      "name": "python"
    }
  },
  "cells": [
    {
      "cell_type": "code",
      "metadata": {
        "id": "8geocRRJxVrK"
      },
      "source": [
        "import os\n",
        "import pandas as pd\n",
        "import numpy as np\n",
        "from scipy.sparse import csr_matrix\n",
        "import pickle\n",
        "from scipy import sparse,spatial,stats\n",
        "from sklearn.metrics import mean_squared_error\n",
        "from sklearn.metrics.pairwise import cosine_similarity"
      ],
      "execution_count": null,
      "outputs": []
    },
    {
      "cell_type": "code",
      "metadata": {
        "colab": {
          "base_uri": "https://localhost:8080/"
        },
        "id": "8zhqYpDWxcf4",
        "outputId": "e076dbca-f15f-4937-e301-5ad6b7111b7b"
      },
      "source": [
        "!wget https://files.grouplens.org/datasets/movielens/ml-100k.zip"
      ],
      "execution_count": null,
      "outputs": [
        {
          "output_type": "stream",
          "name": "stdout",
          "text": [
            "--2021-09-20 09:01:30--  https://files.grouplens.org/datasets/movielens/ml-100k.zip\n",
            "Resolving files.grouplens.org (files.grouplens.org)... 128.101.65.152\n",
            "Connecting to files.grouplens.org (files.grouplens.org)|128.101.65.152|:443... connected.\n",
            "HTTP request sent, awaiting response... 200 OK\n",
            "Length: 4924029 (4.7M) [application/zip]\n",
            "Saving to: ‘ml-100k.zip’\n",
            "\n",
            "ml-100k.zip         100%[===================>]   4.70M  10.1MB/s    in 0.5s    \n",
            "\n",
            "2021-09-20 09:01:31 (10.1 MB/s) - ‘ml-100k.zip’ saved [4924029/4924029]\n",
            "\n"
          ]
        }
      ]
    },
    {
      "cell_type": "code",
      "metadata": {
        "colab": {
          "base_uri": "https://localhost:8080/"
        },
        "id": "vatxy2qoxefM",
        "outputId": "7de98fc4-fe24-4554-b810-2c1b928ea65b"
      },
      "source": [
        "!unzip ml-100k.zip"
      ],
      "execution_count": null,
      "outputs": [
        {
          "output_type": "stream",
          "name": "stdout",
          "text": [
            "Archive:  ml-100k.zip\n",
            "   creating: ml-100k/\n",
            "  inflating: ml-100k/allbut.pl       \n",
            "  inflating: ml-100k/mku.sh          \n",
            "  inflating: ml-100k/README          \n",
            "  inflating: ml-100k/u.data          \n",
            "  inflating: ml-100k/u.genre         \n",
            "  inflating: ml-100k/u.info          \n",
            "  inflating: ml-100k/u.item          \n",
            "  inflating: ml-100k/u.occupation    \n",
            "  inflating: ml-100k/u.user          \n",
            "  inflating: ml-100k/u1.base         \n",
            "  inflating: ml-100k/u1.test         \n",
            "  inflating: ml-100k/u2.base         \n",
            "  inflating: ml-100k/u2.test         \n",
            "  inflating: ml-100k/u3.base         \n",
            "  inflating: ml-100k/u3.test         \n",
            "  inflating: ml-100k/u4.base         \n",
            "  inflating: ml-100k/u4.test         \n",
            "  inflating: ml-100k/u5.base         \n",
            "  inflating: ml-100k/u5.test         \n",
            "  inflating: ml-100k/ua.base         \n",
            "  inflating: ml-100k/ua.test         \n",
            "  inflating: ml-100k/ub.base         \n",
            "  inflating: ml-100k/ub.test         \n"
          ]
        }
      ]
    },
    {
      "cell_type": "code",
      "metadata": {
        "id": "2LALESOGxgSP"
      },
      "source": [
        "trainData = pd.read_csv(\"ml-100k/u1.base\",sep='\\t',names=['user_id','item_id','rating','timestamp'])"
      ],
      "execution_count": null,
      "outputs": []
    },
    {
      "cell_type": "code",
      "metadata": {
        "id": "y1kZP_26xjNG"
      },
      "source": [
        "utilityMatrix=sparse.load_npz(\"utilityMatrix.npz\")"
      ],
      "execution_count": null,
      "outputs": []
    },
    {
      "cell_type": "code",
      "metadata": {
        "id": "fko-l8Z1tGTA"
      },
      "source": [
        "movieSets = dict.fromkeys(range(1,1683))\n",
        "for key in movieSets.keys():\n",
        "  movieSets[key]=set()\n",
        "\n",
        "for index, row in trainData.iterrows():\n",
        "    if row['user_id'] not in movieSets[row['item_id']]:\n",
        "      movieSets[row['item_id']].add(row['user_id'])"
      ],
      "execution_count": null,
      "outputs": []
    },
    {
      "cell_type": "code",
      "metadata": {
        "id": "OcKEyPvvAUN4"
      },
      "source": [
        "#!!\n",
        "userSets = dict.fromkeys(range(944))\n",
        "for key in userSets.keys():\n",
        "  userSets[key]=set()\n",
        "\n",
        "for index, row in trainData.iterrows():\n",
        "    \n",
        "    if row['item_id'] not in userSets[row['user_id']]:\n",
        "      # print(row['user_id'],row['item_id'],row['rating'])\n",
        "      userSets[row['user_id']].add(row['item_id'])"
      ],
      "execution_count": null,
      "outputs": []
    },
    {
      "cell_type": "code",
      "metadata": {
        "id": "xUdujkDbz72g"
      },
      "source": [
        "def is_relevant(rating):\n",
        "  if rating>3.5:\n",
        "    return 1\n",
        "  else:\n",
        "    return 0\n",
        "\n",
        "def average_precision_k(dataset,k=10,threshold=3):\n",
        "  # dataset['relevant_actual']=dataset['rating'].map(is_relevant)\n",
        "  # dataset['relevant_predicted']=dataset['predicted_rating'].map(is_relevant)\n",
        "  precisions=[]\n",
        "  for user in range(943):\n",
        "    dataframeUser = dataset[dataset['user_id']==user+1]\n",
        "    dataframeUserActual = dataframeUser.sort_values(by='rating',ascending=False)\n",
        "    dataframeUserPredicted = dataframeUser.sort_values(by='predicted_rating',ascending=False)\n",
        "    actualReleventSet=set()\n",
        "    predictedReleventSet=set()\n",
        "    actualCounter=0\n",
        "    predictedCounter=0\n",
        "    for index,row in dataframeUserActual.iterrows():\n",
        "      if(actualCounter==k):\n",
        "        break\n",
        "      if(row['rating']>=threshold):\n",
        "        actualCounter+=1\n",
        "        actualReleventSet.add(row['item_id'])\n",
        "    for index,row in dataframeUserPredicted.iterrows():\n",
        "      if(predictedCounter==k):\n",
        "        break\n",
        "      if(row['predicted_rating']>=threshold):\n",
        "        predictedCounter+=1\n",
        "        predictedReleventSet.add(row['item_id'])   \n",
        "    if(len(actualReleventSet)==0):\n",
        "      userPrecisionK==1\n",
        "    else:\n",
        "      userPrecisionK = len(actualReleventSet & predictedReleventSet)/len(actualReleventSet)   \n",
        "    precisions.append(userPrecisionK)\n",
        "  return sum(precisions)/len(precisions)"
      ],
      "execution_count": null,
      "outputs": []
    },
    {
      "cell_type": "code",
      "metadata": {
        "id": "6Zsh4dGoylbp"
      },
      "source": [
        ""
      ],
      "execution_count": null,
      "outputs": []
    },
    {
      "cell_type": "markdown",
      "metadata": {
        "id": "Scff31wgymX0"
      },
      "source": [
        "**1. User-User**"
      ]
    },
    {
      "cell_type": "code",
      "metadata": {
        "id": "iItraocO34O3"
      },
      "source": [
        "PearsonCorrelation = pd.DataFrame(utilityMatrix.transpose().toarray()).corr(method='pearson').values\n",
        "PearsonCorrelation = sparse.csr_matrix(PearsonCorrelation)"
      ],
      "execution_count": null,
      "outputs": []
    },
    {
      "cell_type": "code",
      "metadata": {
        "id": "pk71VUb0xz0g"
      },
      "source": [
        "########## N most similar users who rated the same movie\n",
        "def MostSimilarUser(M,movie,user,n):\n",
        "  movieUserList=movieSets[movie]\n",
        "  similarUserList=[i+1 for i in list(np.argsort(M[user].toarray())[0][::-1])]\n",
        "  nSimilarUsersRatedMovie=[]\n",
        "  counter=0\n",
        "  for similarUser in similarUserList:\n",
        "    if similarUser in movieUserList:\n",
        "      nSimilarUsersRatedMovie.append(similarUser)\n",
        "      counter+=1\n",
        "    if counter==n:\n",
        "      break\n",
        "  return nSimilarUsersRatedMovie"
      ],
      "execution_count": null,
      "outputs": []
    },
    {
      "cell_type": "code",
      "metadata": {
        "id": "fMmnD8OD4ayb"
      },
      "source": [
        "########## Rating Function\n",
        "def calculateRatingUserUser1(M,movie,user,n):\n",
        "  listSimilarUsers=MostSimilarUser(M,movie,user,n)\n",
        "  similarUsersRatings=0\n",
        "  for similarUser in listSimilarUsers:\n",
        "    similarUsersRatings+=utilityMatrix[similarUser-1,movie-1]\n",
        "  averageRating=similarUsersRatings/float(n)\n",
        "  return averageRating\n",
        "  \n",
        "def calculateRatingUserUser2(M,movie,user,n):\n",
        "  listSimilarUsers=MostSimilarUser(M,movie,user,n)\n",
        "  weightedSimilaritySum=0\n",
        "  similaritySum=0\n",
        "  for similarUser in listSimilarUsers:\n",
        "    weightedSimilaritySum+=M[user-1,similarUser-1]*utilityMatrix[similarUser-1,movie-1]\n",
        "    similaritySum+=M[user-1,similarUser-1]\n",
        "  if (similaritySum==0):\n",
        "    rating=0\n",
        "  else:\n",
        "    rating=weightedSimilaritySum/similaritySum\n",
        "  return rating\n",
        "\n",
        "\n",
        "def calculateRatingUserUser3(M,movie,user,n):\n",
        "  listSimilarUsers=MostSimilarUser(M,movie,user,n)\n",
        "  weightedSimilaritySum=0\n",
        "  similaritySum=0\n",
        "  movieArray=utilityMatrix[:,movie]\n",
        "  movieMean=np.mean(movieArray[movieArray.nonzero()])\n",
        "\n",
        "  userArray=utilityMatrix[user,:]\n",
        "  userMean=np.mean(userArray[userArray.nonzero()])\n",
        "  userDeviation=userMean-movieMean\n",
        "  movieDeviation=utilityMatrix[user,movie]-movieMean\n",
        "  bias = movieMean + userDeviation + movieDeviation\n",
        "  for similarUser in listSimilarUsers:\n",
        "    if(similarUser>940):\n",
        "      continue\n",
        "    #######\n",
        "    similaruserArray=utilityMatrix[similarUser,:]\n",
        "    similaruserMean=np.mean(similaruserArray[similaruserArray.nonzero()])\n",
        "    similaruserDeviation=similaruserMean-movieMean\n",
        "    similarUserbias = movieMean + similaruserDeviation + movieDeviation\n",
        "    #######\n",
        "    weightedSimilaritySum+=M[user-1,similarUser-1]*(utilityMatrix[similarUser-1,movie-1]-similarUserbias)\n",
        "    #######\n",
        "    similaritySum+=M[user-1,similarUser-1]\n",
        "  if (similaritySum==0):\n",
        "    rating=0\n",
        "  else:\n",
        "    rating=weightedSimilaritySum/similaritySum\n",
        "  return bias+rating\n"
      ],
      "execution_count": null,
      "outputs": []
    },
    {
      "cell_type": "code",
      "metadata": {
        "id": "USCJRQVCoIBx"
      },
      "source": [
        "testData = pd.read_csv(\"ml-100k/u1.test\",sep='\\t',names=['user_id','item_id','rating','timestamp'])"
      ],
      "execution_count": null,
      "outputs": []
    },
    {
      "cell_type": "markdown",
      "metadata": {
        "id": "29gp5rhhy4V6"
      },
      "source": [
        "1.1 Simple Average Rating\n"
      ]
    },
    {
      "cell_type": "code",
      "metadata": {
        "id": "hvhsr5LKzVMR"
      },
      "source": [
        ""
      ],
      "execution_count": null,
      "outputs": []
    },
    {
      "cell_type": "markdown",
      "metadata": {
        "id": "t6WWBrXBzVYd"
      },
      "source": [
        "1.1.1 Evaluation(n=2)"
      ]
    },
    {
      "cell_type": "code",
      "metadata": {
        "id": "erdUa3suoIBx"
      },
      "source": [
        "testData['predicted_rating']=[0 for _ in range(testData.shape[0])]\n",
        "for index,row in testData.iterrows():\n",
        "    rating_=calculateRatingUserUser1(PearsonCorrelation,row['item_id'],row['user_id'],2)\n",
        "    testData.loc[index,'predicted_rating']=rating_\n",
        "testData['predicted_rating']=testData['predicted_rating'].fillna(0)"
      ],
      "execution_count": null,
      "outputs": []
    },
    {
      "cell_type": "markdown",
      "metadata": {
        "id": "6l_vOSNCzeq8"
      },
      "source": [
        "==> Root Mean Squared Error"
      ]
    },
    {
      "cell_type": "code",
      "metadata": {
        "colab": {
          "base_uri": "https://localhost:8080/"
        },
        "id": "p1cEhU4aoIBy",
        "outputId": "965ef9aa-d1fb-4999-b331-9135555ed8c8"
      },
      "source": [
        "#### Root mean squared error n=2\n",
        "mean_squared_error(testData['rating'],testData['predicted_rating'],squared=False)"
      ],
      "execution_count": null,
      "outputs": [
        {
          "output_type": "execute_result",
          "data": {
            "text/plain": [
              "1.2522879061940988"
            ]
          },
          "metadata": {},
          "execution_count": 13
        }
      ]
    },
    {
      "cell_type": "markdown",
      "metadata": {
        "id": "wTjl4NYHzuK4"
      },
      "source": [
        "==> Precision@10"
      ]
    },
    {
      "cell_type": "code",
      "metadata": {
        "id": "wz2atcB4oIB0",
        "colab": {
          "base_uri": "https://localhost:8080/"
        },
        "outputId": "5c42a272-aef6-4915-f54f-33fe1f9573dd"
      },
      "source": [
        "average_precision_k(testData,k=10)"
      ],
      "execution_count": null,
      "outputs": [
        {
          "output_type": "execute_result",
          "data": {
            "text/plain": [
              "0.24423740510697028"
            ]
          },
          "metadata": {},
          "execution_count": 16
        }
      ]
    },
    {
      "cell_type": "code",
      "metadata": {
        "id": "0Rcy0nsE0Qbi"
      },
      "source": [
        ""
      ],
      "execution_count": null,
      "outputs": []
    },
    {
      "cell_type": "markdown",
      "metadata": {
        "id": "HO5aYC2e0Q0W"
      },
      "source": [
        "1.1.2 Evaluation(n=5)"
      ]
    },
    {
      "cell_type": "code",
      "metadata": {
        "id": "1hDSKJdF0Q0X"
      },
      "source": [
        "testData['predicted_rating']=[0 for _ in range(testData.shape[0])]\n",
        "for index,row in testData.iterrows():\n",
        "    rating_=calculateRatingUserUser1(PearsonCorrelation,row['item_id'],row['user_id'],5)\n",
        "    testData.loc[index,'predicted_rating']=rating_\n",
        "testData['predicted_rating']=testData['predicted_rating'].fillna(0)"
      ],
      "execution_count": null,
      "outputs": []
    },
    {
      "cell_type": "markdown",
      "metadata": {
        "id": "WxQuuQms0Q0X"
      },
      "source": [
        "==> Root Mean Squared Error"
      ]
    },
    {
      "cell_type": "code",
      "metadata": {
        "colab": {
          "base_uri": "https://localhost:8080/"
        },
        "id": "RCuukFm-0Q0X",
        "outputId": "845e5d0b-1538-4b7e-eb48-70ddb97b4cad"
      },
      "source": [
        "#### Root mean squared error n=2\n",
        "mean_squared_error(testData['rating'],testData['predicted_rating'],squared=False)"
      ],
      "execution_count": null,
      "outputs": [
        {
          "output_type": "execute_result",
          "data": {
            "text/plain": [
              "1.1419439565933172"
            ]
          },
          "metadata": {},
          "execution_count": 18
        }
      ]
    },
    {
      "cell_type": "markdown",
      "metadata": {
        "id": "2nBfFb280Q0X"
      },
      "source": [
        "==> Precision@10"
      ]
    },
    {
      "cell_type": "code",
      "metadata": {
        "colab": {
          "base_uri": "https://localhost:8080/"
        },
        "id": "xUkZrsWI0Q0X",
        "outputId": "03af401e-e0ad-4437-c120-de133324f31b"
      },
      "source": [
        "average_precision_k(testData,k=10)"
      ],
      "execution_count": null,
      "outputs": [
        {
          "output_type": "execute_result",
          "data": {
            "text/plain": [
              "0.7577016950293726"
            ]
          },
          "metadata": {},
          "execution_count": 19
        }
      ]
    },
    {
      "cell_type": "code",
      "metadata": {
        "id": "AZ9R0eoR0c1c"
      },
      "source": [
        ""
      ],
      "execution_count": null,
      "outputs": []
    },
    {
      "cell_type": "code",
      "metadata": {
        "id": "v7jRfhqX0eZb"
      },
      "source": [
        ""
      ],
      "execution_count": null,
      "outputs": []
    },
    {
      "cell_type": "markdown",
      "metadata": {
        "id": "qpJXId8S0eww"
      },
      "source": [
        "1.1.3 Evaluation(n=10)"
      ]
    },
    {
      "cell_type": "code",
      "metadata": {
        "id": "kW2q3s_J0eww"
      },
      "source": [
        "testData['predicted_rating']=[0 for _ in range(testData.shape[0])]\n",
        "for index,row in testData.iterrows():\n",
        "    rating_=calculateRatingUserUser1(PearsonCorrelation,row['item_id'],row['user_id'],10)\n",
        "    testData.loc[index,'predicted_rating']=rating_\n",
        "testData['predicted_rating']=testData['predicted_rating'].fillna(0)"
      ],
      "execution_count": null,
      "outputs": []
    },
    {
      "cell_type": "markdown",
      "metadata": {
        "id": "Mc_N-Of70ewx"
      },
      "source": [
        "==> Root Mean Squared Error"
      ]
    },
    {
      "cell_type": "code",
      "metadata": {
        "colab": {
          "base_uri": "https://localhost:8080/"
        },
        "id": "1yjfCJzm0ewx",
        "outputId": "84fa7a64-b7d8-4221-85e7-0eed83362771"
      },
      "source": [
        "#### Root mean squared error n=2\n",
        "mean_squared_error(testData['rating'],testData['predicted_rating'],squared=False)"
      ],
      "execution_count": null,
      "outputs": [
        {
          "output_type": "execute_result",
          "data": {
            "text/plain": [
              "1.108171918070477"
            ]
          },
          "metadata": {},
          "execution_count": 21
        }
      ]
    },
    {
      "cell_type": "markdown",
      "metadata": {
        "id": "R4s1-RxK0ewx"
      },
      "source": [
        "==> Precision@10"
      ]
    },
    {
      "cell_type": "code",
      "metadata": {
        "colab": {
          "base_uri": "https://localhost:8080/"
        },
        "id": "2ie1A6Xx0ewx",
        "outputId": "6ff2f4f4-4a34-4b64-a670-248660741583"
      },
      "source": [
        "average_precision_k(testData,k=10)"
      ],
      "execution_count": null,
      "outputs": [
        {
          "output_type": "execute_result",
          "data": {
            "text/plain": [
              "0.2543949569930482"
            ]
          },
          "metadata": {},
          "execution_count": 22
        }
      ]
    },
    {
      "cell_type": "code",
      "metadata": {
        "id": "DKOHrvn50lth"
      },
      "source": [
        ""
      ],
      "execution_count": null,
      "outputs": []
    },
    {
      "cell_type": "code",
      "metadata": {
        "id": "uM0pkn2C3LKP"
      },
      "source": [
        "testData = pd.read_csv(\"ml-100k/u1.test\",sep='\\t',names=['user_id','item_id','rating','timestamp'])"
      ],
      "execution_count": null,
      "outputs": []
    },
    {
      "cell_type": "markdown",
      "metadata": {
        "id": "F9SWgbV43LKa"
      },
      "source": [
        "1.2 Weighted Average Rating\n"
      ]
    },
    {
      "cell_type": "code",
      "metadata": {
        "id": "0Xld0cu13LKa"
      },
      "source": [
        ""
      ],
      "execution_count": null,
      "outputs": []
    },
    {
      "cell_type": "markdown",
      "metadata": {
        "id": "QQnCbM0G3LKa"
      },
      "source": [
        "1.2.1 Evaluation(n=2)"
      ]
    },
    {
      "cell_type": "code",
      "metadata": {
        "id": "lQiDToC_3LKa"
      },
      "source": [
        "testData['predicted_rating']=[0 for _ in range(testData.shape[0])]\n",
        "for index,row in testData.iterrows():\n",
        "    rating_=calculateRatingUserUser2(PearsonCorrelation,row['item_id'],row['user_id'],2)\n",
        "    testData.loc[index,'predicted_rating']=rating_\n",
        "testData['predicted_rating']=testData['predicted_rating'].fillna(0)"
      ],
      "execution_count": null,
      "outputs": []
    },
    {
      "cell_type": "markdown",
      "metadata": {
        "id": "PIeQw7-j3LKa"
      },
      "source": [
        "==> Root Mean Squared Error"
      ]
    },
    {
      "cell_type": "code",
      "metadata": {
        "colab": {
          "base_uri": "https://localhost:8080/"
        },
        "id": "nyOLEzbO3LKb",
        "outputId": "b7b75ab6-b498-4f5b-a6d5-620600131caf"
      },
      "source": [
        "#### Root mean squared error n=2\n",
        "mean_squared_error(testData['rating'],testData['predicted_rating'],squared=False)"
      ],
      "execution_count": null,
      "outputs": [
        {
          "output_type": "execute_result",
          "data": {
            "text/plain": [
              "2.065238576055945"
            ]
          },
          "metadata": {},
          "execution_count": 24
        }
      ]
    },
    {
      "cell_type": "markdown",
      "metadata": {
        "id": "M_Il_7yX3LKb"
      },
      "source": [
        "==> Precision@10"
      ]
    },
    {
      "cell_type": "code",
      "metadata": {
        "colab": {
          "base_uri": "https://localhost:8080/"
        },
        "id": "FlO04Yt-3LKb",
        "outputId": "0d782796-8d5b-4436-febd-cae89ea716a6"
      },
      "source": [
        "average_precision_k(testData,k=10)"
      ],
      "execution_count": null,
      "outputs": [
        {
          "output_type": "execute_result",
          "data": {
            "text/plain": [
              "0.2323141274891008"
            ]
          },
          "metadata": {},
          "execution_count": 25
        }
      ]
    },
    {
      "cell_type": "code",
      "metadata": {
        "id": "vPEfVWcI3LKc"
      },
      "source": [
        ""
      ],
      "execution_count": null,
      "outputs": []
    },
    {
      "cell_type": "markdown",
      "metadata": {
        "id": "pMuBjArv3LKc"
      },
      "source": [
        "1.2.2 Evaluation(n=5)"
      ]
    },
    {
      "cell_type": "code",
      "metadata": {
        "id": "jgB630Q83LKc"
      },
      "source": [
        "testData['predicted_rating']=[0 for _ in range(testData.shape[0])]\n",
        "for index,row in testData.iterrows():\n",
        "    rating_=calculateRatingUserUser2(PearsonCorrelation,row['item_id'],row['user_id'],5)\n",
        "    testData.loc[index,'predicted_rating']=rating_\n",
        "testData['predicted_rating']=testData['predicted_rating'].fillna(0)"
      ],
      "execution_count": null,
      "outputs": []
    },
    {
      "cell_type": "markdown",
      "metadata": {
        "id": "-WRhtPxn3LKc"
      },
      "source": [
        "==> Root Mean Squared Error"
      ]
    },
    {
      "cell_type": "code",
      "metadata": {
        "colab": {
          "base_uri": "https://localhost:8080/"
        },
        "id": "B_bYFpeV3LKc",
        "outputId": "19c478db-2c80-493f-8507-97df502a7972"
      },
      "source": [
        "#### Root mean squared error n=2\n",
        "mean_squared_error(testData['rating'],testData['predicted_rating'],squared=False)"
      ],
      "execution_count": null,
      "outputs": [
        {
          "output_type": "execute_result",
          "data": {
            "text/plain": [
              "1.720197037003922"
            ]
          },
          "metadata": {},
          "execution_count": 31
        }
      ]
    },
    {
      "cell_type": "markdown",
      "metadata": {
        "id": "_7aLxF-03LKc"
      },
      "source": [
        "==> Precision@10"
      ]
    },
    {
      "cell_type": "code",
      "metadata": {
        "colab": {
          "base_uri": "https://localhost:8080/"
        },
        "id": "ZPDudHNi3LKd",
        "outputId": "db2f4bad-f819-4f2e-8cf5-83f12174fb9c"
      },
      "source": [
        "average_precision_k(testData,k=10)"
      ],
      "execution_count": null,
      "outputs": [
        {
          "output_type": "execute_result",
          "data": {
            "text/plain": [
              "0.7544955309801544"
            ]
          },
          "metadata": {},
          "execution_count": 32
        }
      ]
    },
    {
      "cell_type": "code",
      "metadata": {
        "id": "Nl2DXWHW3LKd"
      },
      "source": [
        ""
      ],
      "execution_count": null,
      "outputs": []
    },
    {
      "cell_type": "code",
      "metadata": {
        "id": "c81oD_o73LKd"
      },
      "source": [
        ""
      ],
      "execution_count": null,
      "outputs": []
    },
    {
      "cell_type": "markdown",
      "metadata": {
        "id": "xP_axMhp3LKd"
      },
      "source": [
        "1.2.3 Evaluation(n=10)"
      ]
    },
    {
      "cell_type": "code",
      "metadata": {
        "id": "fYsubiZH3LKd"
      },
      "source": [
        "testData['predicted_rating']=[0 for _ in range(testData.shape[0])]\n",
        "for index,row in testData.iterrows():\n",
        "    rating_=calculateRatingUserUser2(PearsonCorrelation,row['item_id'],row['user_id'],10)\n",
        "    testData.loc[index,'predicted_rating']=rating_\n",
        "testData['predicted_rating']=testData['predicted_rating'].fillna(0)"
      ],
      "execution_count": null,
      "outputs": []
    },
    {
      "cell_type": "markdown",
      "metadata": {
        "id": "Q0lmda_h3LKd"
      },
      "source": [
        "==> Root Mean Squared Error"
      ]
    },
    {
      "cell_type": "code",
      "metadata": {
        "colab": {
          "base_uri": "https://localhost:8080/"
        },
        "id": "kbH5sAGX3LKd",
        "outputId": "84fa7a64-b7d8-4221-85e7-0eed83362771"
      },
      "source": [
        "#### Root mean squared error n=2\n",
        "mean_squared_error(testData['rating'],testData['predicted_rating'],squared=False)"
      ],
      "execution_count": null,
      "outputs": [
        {
          "output_type": "execute_result",
          "data": {
            "text/plain": [
              "1.108171918070477"
            ]
          },
          "metadata": {},
          "execution_count": 21
        }
      ]
    },
    {
      "cell_type": "markdown",
      "metadata": {
        "id": "sawQeY5m3LKe"
      },
      "source": [
        "==> Precision@10"
      ]
    },
    {
      "cell_type": "code",
      "metadata": {
        "colab": {
          "base_uri": "https://localhost:8080/"
        },
        "id": "4PgrP8kS3LKe",
        "outputId": "6ff2f4f4-4a34-4b64-a670-248660741583"
      },
      "source": [
        "average_precision_k(testData,k=10)"
      ],
      "execution_count": null,
      "outputs": [
        {
          "output_type": "execute_result",
          "data": {
            "text/plain": [
              "0.2543949569930482"
            ]
          },
          "metadata": {},
          "execution_count": 22
        }
      ]
    },
    {
      "cell_type": "code",
      "metadata": {
        "id": "sE-CkUwB852B"
      },
      "source": [
        ""
      ],
      "execution_count": null,
      "outputs": []
    },
    {
      "cell_type": "code",
      "metadata": {
        "id": "QAlAN5mH855y"
      },
      "source": [
        ""
      ],
      "execution_count": null,
      "outputs": []
    },
    {
      "cell_type": "markdown",
      "metadata": {
        "id": "LZU1cfvU86eM"
      },
      "source": [
        "1.3 Weighted Average with bias Rating\n"
      ]
    },
    {
      "cell_type": "code",
      "metadata": {
        "id": "P8M-PQ9586eN"
      },
      "source": [
        ""
      ],
      "execution_count": null,
      "outputs": []
    },
    {
      "cell_type": "markdown",
      "metadata": {
        "id": "8QPiK_GA86eN"
      },
      "source": [
        "1.3.1 Evaluation(n=2)"
      ]
    },
    {
      "cell_type": "code",
      "metadata": {
        "colab": {
          "base_uri": "https://localhost:8080/"
        },
        "id": "MACB3WD586eN",
        "outputId": "abd75430-eef4-4edc-ad31-63b860528655"
      },
      "source": [
        "testData['predicted_rating']=[0 for _ in range(testData.shape[0])]\n",
        "for index,row in testData.iterrows():\n",
        "    rating_=calculateRatingUserUser3(PearsonCorrelation,row['item_id'],row['user_id'],2)\n",
        "    testData.loc[index,'predicted_rating']=rating_\n",
        "testData['predicted_rating']=testData['predicted_rating'].fillna(0)"
      ],
      "execution_count": null,
      "outputs": [
        {
          "output_type": "stream",
          "name": "stderr",
          "text": [
            "/usr/local/lib/python3.7/dist-packages/scipy/sparse/base.py:585: RuntimeWarning: divide by zero encountered in true_divide\n",
            "  return self.astype(np.float_)._mul_scalar(1./other)\n",
            "/usr/local/lib/python3.7/dist-packages/scipy/sparse/base.py:585: RuntimeWarning: divide by zero encountered in true_divide\n",
            "  return self.astype(np.float_)._mul_scalar(1./other)\n",
            "/usr/local/lib/python3.7/dist-packages/scipy/sparse/base.py:585: RuntimeWarning: divide by zero encountered in true_divide\n",
            "  return self.astype(np.float_)._mul_scalar(1./other)\n",
            "/usr/local/lib/python3.7/dist-packages/scipy/sparse/base.py:585: RuntimeWarning: divide by zero encountered in true_divide\n",
            "  return self.astype(np.float_)._mul_scalar(1./other)\n",
            "/usr/local/lib/python3.7/dist-packages/scipy/sparse/base.py:585: RuntimeWarning: divide by zero encountered in true_divide\n",
            "  return self.astype(np.float_)._mul_scalar(1./other)\n",
            "/usr/local/lib/python3.7/dist-packages/scipy/sparse/base.py:585: RuntimeWarning: divide by zero encountered in true_divide\n",
            "  return self.astype(np.float_)._mul_scalar(1./other)\n",
            "/usr/local/lib/python3.7/dist-packages/scipy/sparse/base.py:585: RuntimeWarning: divide by zero encountered in true_divide\n",
            "  return self.astype(np.float_)._mul_scalar(1./other)\n",
            "/usr/local/lib/python3.7/dist-packages/scipy/sparse/base.py:585: RuntimeWarning: divide by zero encountered in true_divide\n",
            "  return self.astype(np.float_)._mul_scalar(1./other)\n",
            "/usr/local/lib/python3.7/dist-packages/scipy/sparse/base.py:585: RuntimeWarning: divide by zero encountered in true_divide\n",
            "  return self.astype(np.float_)._mul_scalar(1./other)\n",
            "/usr/local/lib/python3.7/dist-packages/scipy/sparse/base.py:585: RuntimeWarning: divide by zero encountered in true_divide\n",
            "  return self.astype(np.float_)._mul_scalar(1./other)\n",
            "/usr/local/lib/python3.7/dist-packages/scipy/sparse/base.py:585: RuntimeWarning: divide by zero encountered in true_divide\n",
            "  return self.astype(np.float_)._mul_scalar(1./other)\n",
            "/usr/local/lib/python3.7/dist-packages/scipy/sparse/base.py:585: RuntimeWarning: divide by zero encountered in true_divide\n",
            "  return self.astype(np.float_)._mul_scalar(1./other)\n",
            "/usr/local/lib/python3.7/dist-packages/scipy/sparse/base.py:585: RuntimeWarning: divide by zero encountered in true_divide\n",
            "  return self.astype(np.float_)._mul_scalar(1./other)\n",
            "/usr/local/lib/python3.7/dist-packages/scipy/sparse/base.py:585: RuntimeWarning: divide by zero encountered in true_divide\n",
            "  return self.astype(np.float_)._mul_scalar(1./other)\n",
            "/usr/local/lib/python3.7/dist-packages/scipy/sparse/base.py:585: RuntimeWarning: divide by zero encountered in true_divide\n",
            "  return self.astype(np.float_)._mul_scalar(1./other)\n",
            "/usr/local/lib/python3.7/dist-packages/scipy/sparse/base.py:585: RuntimeWarning: divide by zero encountered in true_divide\n",
            "  return self.astype(np.float_)._mul_scalar(1./other)\n",
            "/usr/local/lib/python3.7/dist-packages/scipy/sparse/base.py:585: RuntimeWarning: divide by zero encountered in true_divide\n",
            "  return self.astype(np.float_)._mul_scalar(1./other)\n",
            "/usr/local/lib/python3.7/dist-packages/scipy/sparse/base.py:585: RuntimeWarning: divide by zero encountered in true_divide\n",
            "  return self.astype(np.float_)._mul_scalar(1./other)\n",
            "/usr/local/lib/python3.7/dist-packages/scipy/sparse/base.py:585: RuntimeWarning: divide by zero encountered in true_divide\n",
            "  return self.astype(np.float_)._mul_scalar(1./other)\n",
            "/usr/local/lib/python3.7/dist-packages/scipy/sparse/base.py:585: RuntimeWarning: divide by zero encountered in true_divide\n",
            "  return self.astype(np.float_)._mul_scalar(1./other)\n",
            "/usr/local/lib/python3.7/dist-packages/scipy/sparse/base.py:585: RuntimeWarning: divide by zero encountered in true_divide\n",
            "  return self.astype(np.float_)._mul_scalar(1./other)\n",
            "/usr/local/lib/python3.7/dist-packages/scipy/sparse/base.py:585: RuntimeWarning: divide by zero encountered in true_divide\n",
            "  return self.astype(np.float_)._mul_scalar(1./other)\n",
            "/usr/local/lib/python3.7/dist-packages/scipy/sparse/base.py:585: RuntimeWarning: divide by zero encountered in true_divide\n",
            "  return self.astype(np.float_)._mul_scalar(1./other)\n",
            "/usr/local/lib/python3.7/dist-packages/scipy/sparse/base.py:585: RuntimeWarning: divide by zero encountered in true_divide\n",
            "  return self.astype(np.float_)._mul_scalar(1./other)\n",
            "/usr/local/lib/python3.7/dist-packages/scipy/sparse/base.py:585: RuntimeWarning: divide by zero encountered in true_divide\n",
            "  return self.astype(np.float_)._mul_scalar(1./other)\n",
            "/usr/local/lib/python3.7/dist-packages/scipy/sparse/base.py:585: RuntimeWarning: divide by zero encountered in true_divide\n",
            "  return self.astype(np.float_)._mul_scalar(1./other)\n",
            "/usr/local/lib/python3.7/dist-packages/scipy/sparse/base.py:585: RuntimeWarning: divide by zero encountered in true_divide\n",
            "  return self.astype(np.float_)._mul_scalar(1./other)\n",
            "/usr/local/lib/python3.7/dist-packages/scipy/sparse/base.py:585: RuntimeWarning: divide by zero encountered in true_divide\n",
            "  return self.astype(np.float_)._mul_scalar(1./other)\n",
            "/usr/local/lib/python3.7/dist-packages/scipy/sparse/base.py:585: RuntimeWarning: divide by zero encountered in true_divide\n",
            "  return self.astype(np.float_)._mul_scalar(1./other)\n",
            "/usr/local/lib/python3.7/dist-packages/scipy/sparse/base.py:585: RuntimeWarning: divide by zero encountered in true_divide\n",
            "  return self.astype(np.float_)._mul_scalar(1./other)\n",
            "/usr/local/lib/python3.7/dist-packages/scipy/sparse/base.py:585: RuntimeWarning: divide by zero encountered in true_divide\n",
            "  return self.astype(np.float_)._mul_scalar(1./other)\n",
            "/usr/local/lib/python3.7/dist-packages/scipy/sparse/base.py:585: RuntimeWarning: divide by zero encountered in true_divide\n",
            "  return self.astype(np.float_)._mul_scalar(1./other)\n",
            "/usr/local/lib/python3.7/dist-packages/scipy/sparse/base.py:585: RuntimeWarning: divide by zero encountered in true_divide\n",
            "  return self.astype(np.float_)._mul_scalar(1./other)\n",
            "/usr/local/lib/python3.7/dist-packages/scipy/sparse/base.py:585: RuntimeWarning: divide by zero encountered in true_divide\n",
            "  return self.astype(np.float_)._mul_scalar(1./other)\n",
            "/usr/local/lib/python3.7/dist-packages/scipy/sparse/base.py:585: RuntimeWarning: divide by zero encountered in true_divide\n",
            "  return self.astype(np.float_)._mul_scalar(1./other)\n",
            "/usr/local/lib/python3.7/dist-packages/scipy/sparse/base.py:585: RuntimeWarning: divide by zero encountered in true_divide\n",
            "  return self.astype(np.float_)._mul_scalar(1./other)\n",
            "/usr/local/lib/python3.7/dist-packages/scipy/sparse/base.py:585: RuntimeWarning: divide by zero encountered in true_divide\n",
            "  return self.astype(np.float_)._mul_scalar(1./other)\n",
            "/usr/local/lib/python3.7/dist-packages/scipy/sparse/base.py:585: RuntimeWarning: divide by zero encountered in true_divide\n",
            "  return self.astype(np.float_)._mul_scalar(1./other)\n",
            "/usr/local/lib/python3.7/dist-packages/scipy/sparse/base.py:585: RuntimeWarning: divide by zero encountered in true_divide\n",
            "  return self.astype(np.float_)._mul_scalar(1./other)\n",
            "/usr/local/lib/python3.7/dist-packages/scipy/sparse/base.py:585: RuntimeWarning: divide by zero encountered in true_divide\n",
            "  return self.astype(np.float_)._mul_scalar(1./other)\n",
            "/usr/local/lib/python3.7/dist-packages/scipy/sparse/base.py:585: RuntimeWarning: divide by zero encountered in true_divide\n",
            "  return self.astype(np.float_)._mul_scalar(1./other)\n",
            "/usr/local/lib/python3.7/dist-packages/scipy/sparse/base.py:585: RuntimeWarning: divide by zero encountered in true_divide\n",
            "  return self.astype(np.float_)._mul_scalar(1./other)\n",
            "/usr/local/lib/python3.7/dist-packages/scipy/sparse/base.py:585: RuntimeWarning: divide by zero encountered in true_divide\n",
            "  return self.astype(np.float_)._mul_scalar(1./other)\n",
            "/usr/local/lib/python3.7/dist-packages/scipy/sparse/base.py:585: RuntimeWarning: divide by zero encountered in true_divide\n",
            "  return self.astype(np.float_)._mul_scalar(1./other)\n",
            "/usr/local/lib/python3.7/dist-packages/scipy/sparse/base.py:585: RuntimeWarning: divide by zero encountered in true_divide\n",
            "  return self.astype(np.float_)._mul_scalar(1./other)\n",
            "/usr/local/lib/python3.7/dist-packages/scipy/sparse/base.py:585: RuntimeWarning: divide by zero encountered in true_divide\n",
            "  return self.astype(np.float_)._mul_scalar(1./other)\n",
            "/usr/local/lib/python3.7/dist-packages/scipy/sparse/base.py:585: RuntimeWarning: divide by zero encountered in true_divide\n",
            "  return self.astype(np.float_)._mul_scalar(1./other)\n",
            "/usr/local/lib/python3.7/dist-packages/scipy/sparse/base.py:585: RuntimeWarning: divide by zero encountered in true_divide\n",
            "  return self.astype(np.float_)._mul_scalar(1./other)\n",
            "/usr/local/lib/python3.7/dist-packages/scipy/sparse/base.py:585: RuntimeWarning: divide by zero encountered in true_divide\n",
            "  return self.astype(np.float_)._mul_scalar(1./other)\n",
            "/usr/local/lib/python3.7/dist-packages/scipy/sparse/base.py:585: RuntimeWarning: divide by zero encountered in true_divide\n",
            "  return self.astype(np.float_)._mul_scalar(1./other)\n",
            "/usr/local/lib/python3.7/dist-packages/scipy/sparse/base.py:585: RuntimeWarning: divide by zero encountered in true_divide\n",
            "  return self.astype(np.float_)._mul_scalar(1./other)\n",
            "/usr/local/lib/python3.7/dist-packages/scipy/sparse/base.py:585: RuntimeWarning: divide by zero encountered in true_divide\n",
            "  return self.astype(np.float_)._mul_scalar(1./other)\n",
            "/usr/local/lib/python3.7/dist-packages/scipy/sparse/base.py:585: RuntimeWarning: divide by zero encountered in true_divide\n",
            "  return self.astype(np.float_)._mul_scalar(1./other)\n",
            "/usr/local/lib/python3.7/dist-packages/scipy/sparse/base.py:585: RuntimeWarning: divide by zero encountered in true_divide\n",
            "  return self.astype(np.float_)._mul_scalar(1./other)\n"
          ]
        }
      ]
    },
    {
      "cell_type": "markdown",
      "metadata": {
        "id": "skc2u6kv86eO"
      },
      "source": [
        "==> Root Mean Squared Error"
      ]
    },
    {
      "cell_type": "code",
      "metadata": {
        "colab": {
          "base_uri": "https://localhost:8080/"
        },
        "id": "k_eXoFg186eO",
        "outputId": "45cb821d-12d2-4026-eec1-287a44152287"
      },
      "source": [
        "#### Root mean squared error n=2\n",
        "mean_squared_error(testData['rating'],testData['predicted_rating'],squared=False)"
      ],
      "execution_count": null,
      "outputs": [
        {
          "output_type": "execute_result",
          "data": {
            "text/plain": [
              "3.064774113405453"
            ]
          },
          "metadata": {},
          "execution_count": 43
        }
      ]
    },
    {
      "cell_type": "markdown",
      "metadata": {
        "id": "5vzE7DBU86eP"
      },
      "source": [
        "==> Precision@10"
      ]
    },
    {
      "cell_type": "code",
      "metadata": {
        "colab": {
          "base_uri": "https://localhost:8080/"
        },
        "id": "8nCvS3iU86eP",
        "outputId": "86dece95-9a3c-4563-bfc3-d46e153e6184"
      },
      "source": [
        "average_precision_k(testData,k=10)"
      ],
      "execution_count": null,
      "outputs": [
        {
          "output_type": "execute_result",
          "data": {
            "text/plain": [
              "0.21733912370179592"
            ]
          },
          "metadata": {},
          "execution_count": 44
        }
      ]
    },
    {
      "cell_type": "code",
      "metadata": {
        "id": "eCLYdGWK86eP"
      },
      "source": [
        ""
      ],
      "execution_count": null,
      "outputs": []
    },
    {
      "cell_type": "markdown",
      "metadata": {
        "id": "4yuVWInh86eQ"
      },
      "source": [
        "1.3.2 Evaluation(n=5)"
      ]
    },
    {
      "cell_type": "code",
      "metadata": {
        "id": "t36KBHfO86eQ"
      },
      "source": [
        "testData['predicted_rating']=[0 for _ in range(testData.shape[0])]\n",
        "for index,row in testData.iterrows():\n",
        "    rating_=calculateRatingUserUser2(PearsonCorrelation,row['item_id'],row['user_id'],5)\n",
        "    testData.loc[index,'predicted_rating']=rating_\n",
        "testData['predicted_rating']=testData['predicted_rating'].fillna(0)"
      ],
      "execution_count": null,
      "outputs": []
    },
    {
      "cell_type": "markdown",
      "metadata": {
        "id": "61mjkgsL86eQ"
      },
      "source": [
        "==> Root Mean Squared Error"
      ]
    },
    {
      "cell_type": "code",
      "metadata": {
        "colab": {
          "base_uri": "https://localhost:8080/"
        },
        "id": "15Vl1OiL86eQ",
        "outputId": "19c478db-2c80-493f-8507-97df502a7972"
      },
      "source": [
        "#### Root mean squared error n=2\n",
        "mean_squared_error(testData['rating'],testData['predicted_rating'],squared=False)"
      ],
      "execution_count": null,
      "outputs": [
        {
          "output_type": "execute_result",
          "data": {
            "text/plain": [
              "1.720197037003922"
            ]
          },
          "metadata": {},
          "execution_count": 31
        }
      ]
    },
    {
      "cell_type": "markdown",
      "metadata": {
        "id": "6Mhl6ANK86eR"
      },
      "source": [
        "==> Precision@10"
      ]
    },
    {
      "cell_type": "code",
      "metadata": {
        "colab": {
          "base_uri": "https://localhost:8080/"
        },
        "id": "bd9tJoBD86eR",
        "outputId": "db2f4bad-f819-4f2e-8cf5-83f12174fb9c"
      },
      "source": [
        "average_precision_k(testData,k=10)"
      ],
      "execution_count": null,
      "outputs": [
        {
          "output_type": "execute_result",
          "data": {
            "text/plain": [
              "0.7544955309801544"
            ]
          },
          "metadata": {},
          "execution_count": 32
        }
      ]
    },
    {
      "cell_type": "code",
      "metadata": {
        "id": "QgHRgwcP86eR"
      },
      "source": [
        ""
      ],
      "execution_count": null,
      "outputs": []
    },
    {
      "cell_type": "code",
      "metadata": {
        "id": "pupri0be86eR"
      },
      "source": [
        ""
      ],
      "execution_count": null,
      "outputs": []
    },
    {
      "cell_type": "markdown",
      "metadata": {
        "id": "OP_ur2eA86eR"
      },
      "source": [
        "1.3.3 Evaluation(n=10)"
      ]
    },
    {
      "cell_type": "code",
      "metadata": {
        "id": "yUuzNrZu86eR"
      },
      "source": [
        "testData['predicted_rating']=[0 for _ in range(testData.shape[0])]\n",
        "for index,row in testData.iterrows():\n",
        "    rating_=calculateRatingUserUser2(PearsonCorrelation,row['item_id'],row['user_id'],10)\n",
        "    testData.loc[index,'predicted_rating']=rating_\n",
        "testData['predicted_rating']=testData['predicted_rating'].fillna(0)"
      ],
      "execution_count": null,
      "outputs": []
    },
    {
      "cell_type": "markdown",
      "metadata": {
        "id": "e_y5F_Hd86eS"
      },
      "source": [
        "==> Root Mean Squared Error"
      ]
    },
    {
      "cell_type": "code",
      "metadata": {
        "colab": {
          "base_uri": "https://localhost:8080/"
        },
        "id": "GfSx8bEu86eS",
        "outputId": "84fa7a64-b7d8-4221-85e7-0eed83362771"
      },
      "source": [
        "#### Root mean squared error n=2\n",
        "mean_squared_error(testData['rating'],testData['predicted_rating'],squared=False)"
      ],
      "execution_count": null,
      "outputs": [
        {
          "output_type": "execute_result",
          "data": {
            "text/plain": [
              "1.108171918070477"
            ]
          },
          "metadata": {},
          "execution_count": 21
        }
      ]
    },
    {
      "cell_type": "markdown",
      "metadata": {
        "id": "c8pzS3_W86eS"
      },
      "source": [
        "==> Precision@10"
      ]
    },
    {
      "cell_type": "code",
      "metadata": {
        "colab": {
          "base_uri": "https://localhost:8080/"
        },
        "id": "Gtxf_lMK86eS",
        "outputId": "6ff2f4f4-4a34-4b64-a670-248660741583"
      },
      "source": [
        "average_precision_k(testData,k=10)"
      ],
      "execution_count": null,
      "outputs": [
        {
          "output_type": "execute_result",
          "data": {
            "text/plain": [
              "0.2543949569930482"
            ]
          },
          "metadata": {},
          "execution_count": 22
        }
      ]
    },
    {
      "cell_type": "code",
      "metadata": {
        "id": "fLQ02k7DbzSf"
      },
      "source": [
        ""
      ],
      "execution_count": null,
      "outputs": []
    },
    {
      "cell_type": "code",
      "metadata": {
        "id": "r87l_kxbbzVh"
      },
      "source": [
        "header=pd.MultiIndex.from_product([['User-User'],\n",
        "                                     ['Simple Average','Weighted Average','Weighted Average with Bias'],['RMSE','Precision@10'],['N=2','N=5','N=10']],\n",
        "                                    names=['Algorithm','Rating Function','Metric','Neighbours'])\n",
        "resultsTable=pd.DataFrame(np.reshape(np.array([1.25,1.14,1.10,0.24,0.75,0.25,2.06,1.72,1.10,0.23,0.75,0.25,3.06,1.72,1.108,0.21,0.75,0.25]),(1,18)),columns=header)"
      ],
      "execution_count": null,
      "outputs": []
    },
    {
      "cell_type": "code",
      "metadata": {
        "id": "tPz7U7-kbzg7",
        "colab": {
          "base_uri": "https://localhost:8080/",
          "height": 172
        },
        "outputId": "532b80c4-8c55-4148-b081-dfc08ccf73d3"
      },
      "source": [
        "display(resultsTable)"
      ],
      "execution_count": null,
      "outputs": [
        {
          "output_type": "display_data",
          "data": {
            "text/html": [
              "<div>\n",
              "<style scoped>\n",
              "    .dataframe tbody tr th:only-of-type {\n",
              "        vertical-align: middle;\n",
              "    }\n",
              "\n",
              "    .dataframe tbody tr th {\n",
              "        vertical-align: top;\n",
              "    }\n",
              "\n",
              "    .dataframe thead tr th {\n",
              "        text-align: left;\n",
              "    }\n",
              "</style>\n",
              "<table border=\"1\" class=\"dataframe\">\n",
              "  <thead>\n",
              "    <tr>\n",
              "      <th>Algorithm</th>\n",
              "      <th colspan=\"18\" halign=\"left\">User-User</th>\n",
              "    </tr>\n",
              "    <tr>\n",
              "      <th>Rating Function</th>\n",
              "      <th colspan=\"6\" halign=\"left\">Simple Average</th>\n",
              "      <th colspan=\"6\" halign=\"left\">Weighted Average</th>\n",
              "      <th colspan=\"6\" halign=\"left\">Weighted Average with Bias</th>\n",
              "    </tr>\n",
              "    <tr>\n",
              "      <th>Metric</th>\n",
              "      <th colspan=\"3\" halign=\"left\">RMSE</th>\n",
              "      <th colspan=\"3\" halign=\"left\">Precision@10</th>\n",
              "      <th colspan=\"3\" halign=\"left\">RMSE</th>\n",
              "      <th colspan=\"3\" halign=\"left\">Precision@10</th>\n",
              "      <th colspan=\"3\" halign=\"left\">RMSE</th>\n",
              "      <th colspan=\"3\" halign=\"left\">Precision@10</th>\n",
              "    </tr>\n",
              "    <tr>\n",
              "      <th>Neighbours</th>\n",
              "      <th>N=2</th>\n",
              "      <th>N=5</th>\n",
              "      <th>N=10</th>\n",
              "      <th>N=2</th>\n",
              "      <th>N=5</th>\n",
              "      <th>N=10</th>\n",
              "      <th>N=2</th>\n",
              "      <th>N=5</th>\n",
              "      <th>N=10</th>\n",
              "      <th>N=2</th>\n",
              "      <th>N=5</th>\n",
              "      <th>N=10</th>\n",
              "      <th>N=2</th>\n",
              "      <th>N=5</th>\n",
              "      <th>N=10</th>\n",
              "      <th>N=2</th>\n",
              "      <th>N=5</th>\n",
              "      <th>N=10</th>\n",
              "    </tr>\n",
              "  </thead>\n",
              "  <tbody>\n",
              "    <tr>\n",
              "      <th>0</th>\n",
              "      <td>1.25</td>\n",
              "      <td>1.14</td>\n",
              "      <td>1.1</td>\n",
              "      <td>0.24</td>\n",
              "      <td>0.75</td>\n",
              "      <td>0.25</td>\n",
              "      <td>2.06</td>\n",
              "      <td>1.72</td>\n",
              "      <td>1.1</td>\n",
              "      <td>0.23</td>\n",
              "      <td>0.75</td>\n",
              "      <td>0.25</td>\n",
              "      <td>3.06</td>\n",
              "      <td>1.72</td>\n",
              "      <td>1.108</td>\n",
              "      <td>0.21</td>\n",
              "      <td>0.75</td>\n",
              "      <td>0.25</td>\n",
              "    </tr>\n",
              "  </tbody>\n",
              "</table>\n",
              "</div>"
            ],
            "text/plain": [
              "Algorithm            User-User             ...                                       \n",
              "Rating Function Simple Average             ... Weighted Average with Bias            \n",
              "Metric                    RMSE             ...               Precision@10            \n",
              "Neighbours                 N=2   N=5 N=10  ...                        N=2   N=5  N=10\n",
              "0                         1.25  1.14  1.1  ...                       0.21  0.75  0.25\n",
              "\n",
              "[1 rows x 18 columns]"
            ]
          },
          "metadata": {}
        }
      ]
    },
    {
      "cell_type": "markdown",
      "metadata": {
        "id": "S3zlj3vbb0Jz"
      },
      "source": [
        "**2. Item-Item**"
      ]
    },
    {
      "cell_type": "code",
      "metadata": {
        "id": "3VZuJOTBb0J0"
      },
      "source": [
        "PearsonCorrelation = pd.DataFrame(utilityMatrix.toarray()).corr(method='pearson').values\n",
        "PearsonCorrelation = sparse.csr_matrix(PearsonCorrelation)"
      ],
      "execution_count": null,
      "outputs": []
    },
    {
      "cell_type": "code",
      "metadata": {
        "id": "OrSj7UGfb0J0"
      },
      "source": [
        "########## N most similar movies\n",
        "def MostSimilarMovies(M,movie,user,n):\n",
        "  usersMovieList=userSets[user]\n",
        "  similarMovieList=[i+1 for i in list(np.argsort(M[movie].toarray())[0][::-1])]\n",
        "  nSimilarMoviesRatedByUser=[]\n",
        "  counter=0\n",
        "  for similarMovie in similarMovieList:\n",
        "    if similarMovie in usersMovieList:\n",
        "      nSimilarMoviesRatedByUser.append(similarMovie)\n",
        "      counter+=1\n",
        "    if counter==n:\n",
        "      break\n",
        "  return nSimilarMoviesRatedByUser"
      ],
      "execution_count": null,
      "outputs": []
    },
    {
      "cell_type": "code",
      "metadata": {
        "id": "kZzuOUDtb0J0"
      },
      "source": [
        "########## Rating Function\n",
        "def calculateRatingItemItem1(M,movie,user,n):\n",
        "  listSimilarMovies=MostSimilarMovies(M,movie,user,n)\n",
        "  similarMoviesRatings=0\n",
        "  for similarMovie in listSimilarMovies:\n",
        "    similarMoviesRatings+=utilityMatrix[user-1,similarMovie-1]\n",
        "  averageRating=similarMoviesRatings/float(n)\n",
        "  return averageRating\n",
        "  \n",
        "def calculateRatingItemItem2(M,movie,user,n):\n",
        "  listSimilarMovies=MostSimilarMovies(M,movie,user,n)\n",
        "  weightedSimilaritySum=0\n",
        "  similaritySum=0\n",
        "  for similarMovie in listSimilarMovies:\n",
        "    weightedSimilaritySum+=M[movie-1,similarMovie-1]*utilityMatrix[user-1,similarMovie-1]\n",
        "    similaritySum+=M[movie-1,similarMovie-1]\n",
        "  if (similaritySum==0):\n",
        "    rating=0\n",
        "  else:\n",
        "    rating=weightedSimilaritySum/similaritySum\n",
        "  return rating\n",
        "\n",
        "\n",
        "def calculateRatingItemItem3(M,movie,user,n):\n",
        "  listSimilarMovies=MostSimilarMovies(M,movie,user,n)\n",
        "  weightedSimilaritySum=0\n",
        "  similaritySum=0\n",
        "  movieArray=utilityMatrix[:,movie]\n",
        "  movieMean=np.mean(movieArray[movieArray.nonzero()])\n",
        "\n",
        "  userArray=utilityMatrix[user,:]\n",
        "  userMean=np.mean(userArray[userArray.nonzero()])\n",
        "  userDeviation=userMean-movieMean\n",
        "  movieDeviation=utilityMatrix[user,movie]-movieMean\n",
        "  bias = movieMean + userDeviation + movieDeviation\n",
        "  for similarMovie in listSimilarMovies:\n",
        "    if(similarMovie>1680):\n",
        "      continue\n",
        "    #######\n",
        "    similarmovieArray=utilityMatrix[:,similarMovie]\n",
        "    similarmovieMean=np.mean(similarmovieArray[similarmovieArray.nonzero()])\n",
        "    similarmovieDeviation=similarmovieMean-movieMean\n",
        "    similarMoviebias = movieMean + similarmovieDeviation + movieDeviation\n",
        "    #######\n",
        "    weightedSimilaritySum+=M[movie-1,similarMovie-1]*(utilityMatrix[user-1,similarMovie-1]-similarMoviebias)\n",
        "    #######\n",
        "    similaritySum+=M[movie-1,similarMovie-1]\n",
        "  if (similaritySum==0):\n",
        "    rating=0\n",
        "  else:\n",
        "    rating=weightedSimilaritySum/similaritySum\n",
        "  return bias+rating\n"
      ],
      "execution_count": null,
      "outputs": []
    },
    {
      "cell_type": "code",
      "metadata": {
        "id": "-k5qQdqib0J1"
      },
      "source": [
        "testData = pd.read_csv(\"ml-100k/u1.test\",sep='\\t',names=['user_id','item_id','rating','timestamp'])"
      ],
      "execution_count": null,
      "outputs": []
    },
    {
      "cell_type": "markdown",
      "metadata": {
        "id": "9jaE1MJgb0J1"
      },
      "source": [
        "2.1 Simple Average Rating\n"
      ]
    },
    {
      "cell_type": "code",
      "metadata": {
        "id": "iBhLPw6Qb0J1"
      },
      "source": [
        ""
      ],
      "execution_count": null,
      "outputs": []
    },
    {
      "cell_type": "markdown",
      "metadata": {
        "id": "oPztrdGOb0J2"
      },
      "source": [
        "2.1.1 Evaluation(n=2)"
      ]
    },
    {
      "cell_type": "code",
      "metadata": {
        "id": "lk9gsvUeb0J2"
      },
      "source": [
        "testData['predicted_rating']=[0 for _ in range(testData.shape[0])]\n",
        "for index,row in testData.iterrows():\n",
        "    rating_=calculateRatingItemItem1(PearsonCorrelation,row['item_id'],row['user_id'],2)\n",
        "    testData.loc[index,'predicted_rating']=rating_\n",
        "testData['predicted_rating']=testData['predicted_rating'].fillna(0)"
      ],
      "execution_count": null,
      "outputs": []
    },
    {
      "cell_type": "markdown",
      "metadata": {
        "id": "7zbburBdb0J2"
      },
      "source": [
        "==> Root Mean Squared Error"
      ]
    },
    {
      "cell_type": "code",
      "metadata": {
        "colab": {
          "base_uri": "https://localhost:8080/"
        },
        "id": "ngZ_IOtFb0J2",
        "outputId": "03ecea1f-2081-4a20-bad6-7ff2cae574e8"
      },
      "source": [
        "#### Root mean squared error n=2\n",
        "mean_squared_error(testData['rating'],testData['predicted_rating'],squared=False)"
      ],
      "execution_count": null,
      "outputs": [
        {
          "output_type": "execute_result",
          "data": {
            "text/plain": [
              "1.2525474042925482"
            ]
          },
          "metadata": {},
          "execution_count": 18
        }
      ]
    },
    {
      "cell_type": "markdown",
      "metadata": {
        "id": "ygj8kEZ-b0J3"
      },
      "source": [
        "==> Precision@10"
      ]
    },
    {
      "cell_type": "code",
      "metadata": {
        "colab": {
          "base_uri": "https://localhost:8080/"
        },
        "id": "LaVqNq3qb0J4",
        "outputId": "8204a408-a5a2-4592-e636-16a35b1fd8ce"
      },
      "source": [
        "average_precision_k(testData,k=10)"
      ],
      "execution_count": null,
      "outputs": [
        {
          "output_type": "execute_result",
          "data": {
            "text/plain": [
              "0.7413998720732549"
            ]
          },
          "metadata": {},
          "execution_count": 19
        }
      ]
    },
    {
      "cell_type": "code",
      "metadata": {
        "id": "dV4TWqxWb0J4"
      },
      "source": [
        ""
      ],
      "execution_count": null,
      "outputs": []
    },
    {
      "cell_type": "markdown",
      "metadata": {
        "id": "HgoYermib0J4"
      },
      "source": [
        "2.1.2 Evaluation(n=5)"
      ]
    },
    {
      "cell_type": "code",
      "metadata": {
        "id": "8TVHYRv4b0J4"
      },
      "source": [
        "testData['predicted_rating']=[0 for _ in range(testData.shape[0])]\n",
        "for index,row in testData.iterrows():\n",
        "    rating_=calculateRatingItemItem1(PearsonCorrelation,row['item_id'],row['user_id'],5)\n",
        "    testData.loc[index,'predicted_rating']=rating_\n",
        "testData['predicted_rating']=testData['predicted_rating'].fillna(0)"
      ],
      "execution_count": null,
      "outputs": []
    },
    {
      "cell_type": "markdown",
      "metadata": {
        "id": "lkXt37VGb0J4"
      },
      "source": [
        "==> Root Mean Squared Error"
      ]
    },
    {
      "cell_type": "code",
      "metadata": {
        "colab": {
          "base_uri": "https://localhost:8080/"
        },
        "id": "M3gKlAM4b0J5",
        "outputId": "021a7183-13e3-4c36-9de4-879b8c2a724c"
      },
      "source": [
        "#### Root mean squared error n=2\n",
        "mean_squared_error(testData['rating'],testData['predicted_rating'],squared=False)"
      ],
      "execution_count": null,
      "outputs": [
        {
          "output_type": "execute_result",
          "data": {
            "text/plain": [
              "1.1356751296035323"
            ]
          },
          "metadata": {},
          "execution_count": 21
        }
      ]
    },
    {
      "cell_type": "markdown",
      "metadata": {
        "id": "JQjbUybkb0J5"
      },
      "source": [
        "==> Precision@10"
      ]
    },
    {
      "cell_type": "code",
      "metadata": {
        "colab": {
          "base_uri": "https://localhost:8080/"
        },
        "id": "ExarIq_wb0J5",
        "outputId": "24dd3f88-57b3-47ed-fd1c-899e7db06dc9"
      },
      "source": [
        "average_precision_k(testData,k=10)"
      ],
      "execution_count": null,
      "outputs": [
        {
          "output_type": "execute_result",
          "data": {
            "text/plain": [
              "0.23388333417495644"
            ]
          },
          "metadata": {},
          "execution_count": 22
        }
      ]
    },
    {
      "cell_type": "code",
      "metadata": {
        "id": "qimTjIykb0J5"
      },
      "source": [
        ""
      ],
      "execution_count": null,
      "outputs": []
    },
    {
      "cell_type": "code",
      "metadata": {
        "id": "dyGOFmlUb0J5"
      },
      "source": [
        ""
      ],
      "execution_count": null,
      "outputs": []
    },
    {
      "cell_type": "markdown",
      "metadata": {
        "id": "vMhEn9JUb0J5"
      },
      "source": [
        "2.1.3 Evaluation(n=10)"
      ]
    },
    {
      "cell_type": "code",
      "metadata": {
        "id": "gU2rlwpFb0J6"
      },
      "source": [
        "testData['predicted_rating']=[0 for _ in range(testData.shape[0])]\n",
        "for index,row in testData.iterrows():\n",
        "    rating_=calculateRatingItemItem1(PearsonCorrelation,row['item_id'],row['user_id'],10)\n",
        "    testData.loc[index,'predicted_rating']=rating_\n",
        "testData['predicted_rating']=testData['predicted_rating'].fillna(0)"
      ],
      "execution_count": null,
      "outputs": []
    },
    {
      "cell_type": "markdown",
      "metadata": {
        "id": "DP2Mij6qb0J6"
      },
      "source": [
        "==> Root Mean Squared Error"
      ]
    },
    {
      "cell_type": "code",
      "metadata": {
        "colab": {
          "base_uri": "https://localhost:8080/"
        },
        "id": "1KPUFi44b0J6",
        "outputId": "a7acf874-743c-4014-abd2-df828cd72f7e"
      },
      "source": [
        "#### Root mean squared error n=2\n",
        "mean_squared_error(testData['rating'],testData['predicted_rating'],squared=False)"
      ],
      "execution_count": null,
      "outputs": [
        {
          "output_type": "execute_result",
          "data": {
            "text/plain": [
              "1.091602262731257"
            ]
          },
          "metadata": {},
          "execution_count": 24
        }
      ]
    },
    {
      "cell_type": "markdown",
      "metadata": {
        "id": "Obm1ipfHb0J6"
      },
      "source": [
        "==> Precision@10"
      ]
    },
    {
      "cell_type": "code",
      "metadata": {
        "colab": {
          "base_uri": "https://localhost:8080/"
        },
        "id": "TxRXRBnxb0J6",
        "outputId": "ae3589e3-d032-4d42-fcff-12eb3dccde6a"
      },
      "source": [
        "average_precision_k(testData,k=10)"
      ],
      "execution_count": null,
      "outputs": [
        {
          "output_type": "execute_result",
          "data": {
            "text/plain": [
              "0.7465173626891548"
            ]
          },
          "metadata": {},
          "execution_count": 25
        }
      ]
    },
    {
      "cell_type": "code",
      "metadata": {
        "id": "NIEN9l11b0J7"
      },
      "source": [
        ""
      ],
      "execution_count": null,
      "outputs": []
    },
    {
      "cell_type": "markdown",
      "metadata": {
        "id": "4QROCpgjb0J7"
      },
      "source": [
        "2.2 Weighted Average Rating\n"
      ]
    },
    {
      "cell_type": "code",
      "metadata": {
        "id": "03ty3aAEb0J7"
      },
      "source": [
        ""
      ],
      "execution_count": null,
      "outputs": []
    },
    {
      "cell_type": "markdown",
      "metadata": {
        "id": "DtRmeah6b0J7"
      },
      "source": [
        "1.2.1 Evaluation(n=2)"
      ]
    },
    {
      "cell_type": "code",
      "metadata": {
        "id": "lmA7AN1Tb0J7"
      },
      "source": [
        "testData['predicted_rating']=[0 for _ in range(testData.shape[0])]\n",
        "for index,row in testData.iterrows():\n",
        "    rating_=calculateRatingItemItem2(PearsonCorrelation,row['item_id'],row['user_id'],2)\n",
        "    testData.loc[index,'predicted_rating']=rating_\n",
        "testData['predicted_rating']=testData['predicted_rating'].fillna(0)"
      ],
      "execution_count": null,
      "outputs": []
    },
    {
      "cell_type": "markdown",
      "metadata": {
        "id": "qRxZoazDb0J8"
      },
      "source": [
        "==> Root Mean Squared Error"
      ]
    },
    {
      "cell_type": "code",
      "metadata": {
        "colab": {
          "base_uri": "https://localhost:8080/"
        },
        "id": "Xhtc4U6Kb0J8",
        "outputId": "768ecdcc-88c7-43a5-827c-7b0226c48e72"
      },
      "source": [
        "#### Root mean squared error n=2\n",
        "mean_squared_error(testData['rating'],testData['predicted_rating'],squared=False)"
      ],
      "execution_count": null,
      "outputs": [
        {
          "output_type": "execute_result",
          "data": {
            "text/plain": [
              "12.546825995028968"
            ]
          },
          "metadata": {},
          "execution_count": 27
        }
      ]
    },
    {
      "cell_type": "markdown",
      "metadata": {
        "id": "SVoiz41vb0J8"
      },
      "source": [
        "==> Precision@10"
      ]
    },
    {
      "cell_type": "code",
      "metadata": {
        "colab": {
          "base_uri": "https://localhost:8080/"
        },
        "id": "6eo2EuYBb0J8",
        "outputId": "3955e047-4adf-403a-a712-1510c17082a3"
      },
      "source": [
        "average_precision_k(testData,k=10)"
      ],
      "execution_count": null,
      "outputs": [
        {
          "output_type": "execute_result",
          "data": {
            "text/plain": [
              "0.22284965240956753"
            ]
          },
          "metadata": {},
          "execution_count": 28
        }
      ]
    },
    {
      "cell_type": "code",
      "metadata": {
        "id": "UOQu2dYWb0J8"
      },
      "source": [
        ""
      ],
      "execution_count": null,
      "outputs": []
    },
    {
      "cell_type": "markdown",
      "metadata": {
        "id": "X6saRIelb0J8"
      },
      "source": [
        "1.2.2 Evaluation(n=5)"
      ]
    },
    {
      "cell_type": "code",
      "metadata": {
        "id": "2C8il3aKb0J9"
      },
      "source": [
        "testData['predicted_rating']=[0 for _ in range(testData.shape[0])]\n",
        "for index,row in testData.iterrows():\n",
        "    rating_=calculateRatingItemItem2(PearsonCorrelation,row['item_id'],row['user_id'],5)\n",
        "    testData.loc[index,'predicted_rating']=rating_\n",
        "testData['predicted_rating']=testData['predicted_rating'].fillna(0)"
      ],
      "execution_count": null,
      "outputs": []
    },
    {
      "cell_type": "markdown",
      "metadata": {
        "id": "qeqKi1XUb0J9"
      },
      "source": [
        "==> Root Mean Squared Error"
      ]
    },
    {
      "cell_type": "code",
      "metadata": {
        "colab": {
          "base_uri": "https://localhost:8080/"
        },
        "id": "pm9el4cYb0J9",
        "outputId": "66898bcc-9d5b-4b50-e3db-6ecb03652642"
      },
      "source": [
        "#### Root mean squared error n=2\n",
        "mean_squared_error(testData['rating'],testData['predicted_rating'],squared=False)"
      ],
      "execution_count": null,
      "outputs": [
        {
          "output_type": "execute_result",
          "data": {
            "text/plain": [
              "4.454566102200838"
            ]
          },
          "metadata": {},
          "execution_count": 30
        }
      ]
    },
    {
      "cell_type": "markdown",
      "metadata": {
        "id": "AZDvHn0Xb0J9"
      },
      "source": [
        "==> Precision@10"
      ]
    },
    {
      "cell_type": "code",
      "metadata": {
        "colab": {
          "base_uri": "https://localhost:8080/"
        },
        "id": "3BrNdj40b0J9",
        "outputId": "0c5429e9-a8fa-435b-968f-0d3fbfd772bd"
      },
      "source": [
        "average_precision_k(testData,k=10)"
      ],
      "execution_count": null,
      "outputs": [
        {
          "output_type": "execute_result",
          "data": {
            "text/plain": [
              "0.23114889999831661"
            ]
          },
          "metadata": {},
          "execution_count": 31
        }
      ]
    },
    {
      "cell_type": "code",
      "metadata": {
        "id": "7AR7kNEJb0J9"
      },
      "source": [
        ""
      ],
      "execution_count": null,
      "outputs": []
    },
    {
      "cell_type": "code",
      "metadata": {
        "id": "0xfq6MDJb0J9"
      },
      "source": [
        ""
      ],
      "execution_count": null,
      "outputs": []
    },
    {
      "cell_type": "markdown",
      "metadata": {
        "id": "vCN3fjDTb0J9"
      },
      "source": [
        "1.2.3 Evaluation(n=10)"
      ]
    },
    {
      "cell_type": "code",
      "metadata": {
        "id": "n0HsNicQb0J9"
      },
      "source": [
        "testData['predicted_rating']=[0 for _ in range(testData.shape[0])]\n",
        "for index,row in testData.iterrows():\n",
        "    rating_=calculateRatingItemItem2(PearsonCorrelation,row['item_id'],row['user_id'],10)\n",
        "    testData.loc[index,'predicted_rating']=rating_\n",
        "testData['predicted_rating']=testData['predicted_rating'].fillna(0)"
      ],
      "execution_count": null,
      "outputs": []
    },
    {
      "cell_type": "markdown",
      "metadata": {
        "id": "1fujpOCfb0J9"
      },
      "source": [
        "==> Root Mean Squared Error"
      ]
    },
    {
      "cell_type": "code",
      "metadata": {
        "colab": {
          "base_uri": "https://localhost:8080/"
        },
        "id": "0NhYnO0fb0J-",
        "outputId": "22bd4542-c161-4b35-e4b0-1377ee957309"
      },
      "source": [
        "#### Root mean squared error n=2\n",
        "mean_squared_error(testData['rating'],testData['predicted_rating'],squared=False)"
      ],
      "execution_count": null,
      "outputs": [
        {
          "output_type": "execute_result",
          "data": {
            "text/plain": [
              "20.68206732667912"
            ]
          },
          "metadata": {},
          "execution_count": 33
        }
      ]
    },
    {
      "cell_type": "markdown",
      "metadata": {
        "id": "DqN-dUCIb0J-"
      },
      "source": [
        "==> Precision@10"
      ]
    },
    {
      "cell_type": "code",
      "metadata": {
        "colab": {
          "base_uri": "https://localhost:8080/"
        },
        "id": "rOEFKP5yb0J-",
        "outputId": "02b48168-4eea-4e61-c27d-208ac4580f68"
      },
      "source": [
        "average_precision_k(testData,k=10)"
      ],
      "execution_count": null,
      "outputs": [
        {
          "output_type": "execute_result",
          "data": {
            "text/plain": [
              "0.7502625864767963"
            ]
          },
          "metadata": {},
          "execution_count": 34
        }
      ]
    },
    {
      "cell_type": "code",
      "metadata": {
        "id": "Uy9e7twFb0J-"
      },
      "source": [
        ""
      ],
      "execution_count": null,
      "outputs": []
    },
    {
      "cell_type": "code",
      "metadata": {
        "id": "qakcPsd7b0J-"
      },
      "source": [
        ""
      ],
      "execution_count": null,
      "outputs": []
    },
    {
      "cell_type": "markdown",
      "metadata": {
        "id": "9ZWiA1ZDb0J-"
      },
      "source": [
        "1.3 Weighted Average with bias Rating\n"
      ]
    },
    {
      "cell_type": "code",
      "metadata": {
        "id": "nY9_S2fhb0J_"
      },
      "source": [
        ""
      ],
      "execution_count": null,
      "outputs": []
    },
    {
      "cell_type": "markdown",
      "metadata": {
        "id": "W1A70B6hb0KA"
      },
      "source": [
        "1.3.1 Evaluation(n=2)"
      ]
    },
    {
      "cell_type": "code",
      "metadata": {
        "id": "z4YKOxeKb0KA"
      },
      "source": [
        "testData['predicted_rating']=[0 for _ in range(testData.shape[0])]\n",
        "for index,row in testData.iterrows():\n",
        "    rating_=calculateRatingItemItem3(PearsonCorrelation,row['item_id'],row['user_id'],2)\n",
        "    testData.loc[index,'predicted_rating']=rating_\n",
        "testData['predicted_rating']=testData['predicted_rating'].fillna(0)"
      ],
      "execution_count": null,
      "outputs": []
    },
    {
      "cell_type": "markdown",
      "metadata": {
        "id": "i1Q0JaJrb0KA"
      },
      "source": [
        "==> Root Mean Squared Error"
      ]
    },
    {
      "cell_type": "code",
      "metadata": {
        "colab": {
          "base_uri": "https://localhost:8080/"
        },
        "id": "1sDIMNOjb0KA",
        "outputId": "f183ce3f-7053-4c83-acf0-c9033e6cc14b"
      },
      "source": [
        "#### Root mean squared error n=2\n",
        "mean_squared_error(testData['rating'],testData['predicted_rating'],squared=False)"
      ],
      "execution_count": null,
      "outputs": [
        {
          "output_type": "execute_result",
          "data": {
            "text/plain": [
              "14.921508314205845"
            ]
          },
          "metadata": {},
          "execution_count": 36
        }
      ]
    },
    {
      "cell_type": "markdown",
      "metadata": {
        "id": "IlySvR-Lb0KA"
      },
      "source": [
        "==> Precision@10"
      ]
    },
    {
      "cell_type": "code",
      "metadata": {
        "colab": {
          "base_uri": "https://localhost:8080/"
        },
        "id": "dm04-4RAb0KA",
        "outputId": "54965ab3-ce4e-4c13-b6b1-bd6098b88e6a"
      },
      "source": [
        "average_precision_k(testData,k=10)"
      ],
      "execution_count": null,
      "outputs": [
        {
          "output_type": "execute_result",
          "data": {
            "text/plain": [
              "0.7238949485768147"
            ]
          },
          "metadata": {},
          "execution_count": 37
        }
      ]
    },
    {
      "cell_type": "code",
      "metadata": {
        "id": "JAF2zzEHb0KA"
      },
      "source": [
        ""
      ],
      "execution_count": null,
      "outputs": []
    },
    {
      "cell_type": "markdown",
      "metadata": {
        "id": "tSZyMhASb0KA"
      },
      "source": [
        "1.3.2 Evaluation(n=5)"
      ]
    },
    {
      "cell_type": "code",
      "metadata": {
        "id": "COjKzXxDb0KA"
      },
      "source": [
        "testData['predicted_rating']=[0 for _ in range(testData.shape[0])]\n",
        "for index,row in testData.iterrows():\n",
        "    rating_=calculateRatingItemItem3(PearsonCorrelation,row['item_id'],row['user_id'],5)\n",
        "    testData.loc[index,'predicted_rating']=rating_\n",
        "testData['predicted_rating']=testData['predicted_rating'].fillna(0)"
      ],
      "execution_count": null,
      "outputs": []
    },
    {
      "cell_type": "markdown",
      "metadata": {
        "id": "F493boD_b0KB"
      },
      "source": [
        "==> Root Mean Squared Error"
      ]
    },
    {
      "cell_type": "code",
      "metadata": {
        "colab": {
          "base_uri": "https://localhost:8080/"
        },
        "id": "5HChNVXcb0KB",
        "outputId": "9ef8d6ca-9224-4b61-8337-64a41b763146"
      },
      "source": [
        "#### Root mean squared error n=2\n",
        "mean_squared_error(testData['rating'],testData['predicted_rating'],squared=False)"
      ],
      "execution_count": null,
      "outputs": [
        {
          "output_type": "execute_result",
          "data": {
            "text/plain": [
              "4.356024619462531"
            ]
          },
          "metadata": {},
          "execution_count": 39
        }
      ]
    },
    {
      "cell_type": "markdown",
      "metadata": {
        "id": "-VfZHNujb0KB"
      },
      "source": [
        "==> Precision@10"
      ]
    },
    {
      "cell_type": "code",
      "metadata": {
        "colab": {
          "base_uri": "https://localhost:8080/"
        },
        "id": "wJCG1lfjb0KB",
        "outputId": "4f4b769e-815b-4594-c57b-1592b18175a0"
      },
      "source": [
        "average_precision_k(testData,k=10)"
      ],
      "execution_count": null,
      "outputs": [
        {
          "output_type": "execute_result",
          "data": {
            "text/plain": [
              "0.2233171741655301"
            ]
          },
          "metadata": {},
          "execution_count": 40
        }
      ]
    },
    {
      "cell_type": "code",
      "metadata": {
        "id": "CKdthobnb0KB"
      },
      "source": [
        ""
      ],
      "execution_count": null,
      "outputs": []
    },
    {
      "cell_type": "code",
      "metadata": {
        "id": "QSm1MaSQb0KB"
      },
      "source": [
        ""
      ],
      "execution_count": null,
      "outputs": []
    },
    {
      "cell_type": "markdown",
      "metadata": {
        "id": "R5p91QI8b0KB"
      },
      "source": [
        "1.3.3 Evaluation(n=10)"
      ]
    },
    {
      "cell_type": "code",
      "metadata": {
        "id": "2i7Gbj7Kb0KB"
      },
      "source": [
        "testData['predicted_rating']=[0 for _ in range(testData.shape[0])]\n",
        "for index,row in testData.iterrows():\n",
        "    rating_=calculateRatingItemItem3(PearsonCorrelation,row['item_id'],row['user_id'],10)\n",
        "    testData.loc[index,'predicted_rating']=rating_\n",
        "testData['predicted_rating']=testData['predicted_rating'].fillna(0)"
      ],
      "execution_count": null,
      "outputs": []
    },
    {
      "cell_type": "markdown",
      "metadata": {
        "id": "_RXtQRv3b0KB"
      },
      "source": [
        "==> Root Mean Squared Error"
      ]
    },
    {
      "cell_type": "code",
      "metadata": {
        "colab": {
          "base_uri": "https://localhost:8080/"
        },
        "id": "T2SqtOSpb0KB",
        "outputId": "e1b7f7d2-edda-42a1-dbf6-c8aab1cb36be"
      },
      "source": [
        "#### Root mean squared error n=2\n",
        "mean_squared_error(testData['rating'],testData['predicted_rating'],squared=False)"
      ],
      "execution_count": null,
      "outputs": [
        {
          "output_type": "execute_result",
          "data": {
            "text/plain": [
              "22.13619923594598"
            ]
          },
          "metadata": {},
          "execution_count": 42
        }
      ]
    },
    {
      "cell_type": "markdown",
      "metadata": {
        "id": "U0EOnffVb0KB"
      },
      "source": [
        "==> Precision@10"
      ]
    },
    {
      "cell_type": "code",
      "metadata": {
        "colab": {
          "base_uri": "https://localhost:8080/"
        },
        "id": "BgiHPRELb0KC",
        "outputId": "b464b47d-842e-4fc4-a031-507ce8da5048"
      },
      "source": [
        "average_precision_k(testData,k=10)"
      ],
      "execution_count": null,
      "outputs": [
        {
          "output_type": "execute_result",
          "data": {
            "text/plain": [
              "0.22537578481374856"
            ]
          },
          "metadata": {},
          "execution_count": 43
        }
      ]
    },
    {
      "cell_type": "code",
      "metadata": {
        "id": "0m49XvMysdLX"
      },
      "source": [
        "header=pd.MultiIndex.from_product([['Item-Item'],\n",
        "                                     ['Simple Average','Weighted Average','Weighted Average with Bias'],['RMSE','Precision@10'],['N=2','N=5','N=10']],\n",
        "                                    names=['Algorithm','Rating Function','Metric','Neighbours'])\n",
        "resultsTable=pd.DataFrame(np.reshape(np.array([1.25,1.13,1.09,0.74,0.23,0.74,12.54,4.45,20.68,0.22,0.23,0.75,14.92,4.35,22.13,0.72,0.22,0.22]),(1,18)),columns=header)"
      ],
      "execution_count": null,
      "outputs": []
    },
    {
      "cell_type": "code",
      "metadata": {
        "colab": {
          "base_uri": "https://localhost:8080/",
          "height": 172
        },
        "id": "1eL5_n4pMjTy",
        "outputId": "09ae51a8-edf9-476d-dc87-2ef6a214797a"
      },
      "source": [
        "display(resultsTable)"
      ],
      "execution_count": null,
      "outputs": [
        {
          "output_type": "display_data",
          "data": {
            "text/html": [
              "<div>\n",
              "<style scoped>\n",
              "    .dataframe tbody tr th:only-of-type {\n",
              "        vertical-align: middle;\n",
              "    }\n",
              "\n",
              "    .dataframe tbody tr th {\n",
              "        vertical-align: top;\n",
              "    }\n",
              "\n",
              "    .dataframe thead tr th {\n",
              "        text-align: left;\n",
              "    }\n",
              "</style>\n",
              "<table border=\"1\" class=\"dataframe\">\n",
              "  <thead>\n",
              "    <tr>\n",
              "      <th>Algorithm</th>\n",
              "      <th colspan=\"18\" halign=\"left\">Item-Item</th>\n",
              "    </tr>\n",
              "    <tr>\n",
              "      <th>Rating Function</th>\n",
              "      <th colspan=\"6\" halign=\"left\">Simple Average</th>\n",
              "      <th colspan=\"6\" halign=\"left\">Weighted Average</th>\n",
              "      <th colspan=\"6\" halign=\"left\">Weighted Average with Bias</th>\n",
              "    </tr>\n",
              "    <tr>\n",
              "      <th>Metric</th>\n",
              "      <th colspan=\"3\" halign=\"left\">RMSE</th>\n",
              "      <th colspan=\"3\" halign=\"left\">Precision@10</th>\n",
              "      <th colspan=\"3\" halign=\"left\">RMSE</th>\n",
              "      <th colspan=\"3\" halign=\"left\">Precision@10</th>\n",
              "      <th colspan=\"3\" halign=\"left\">RMSE</th>\n",
              "      <th colspan=\"3\" halign=\"left\">Precision@10</th>\n",
              "    </tr>\n",
              "    <tr>\n",
              "      <th>Neighbours</th>\n",
              "      <th>N=2</th>\n",
              "      <th>N=5</th>\n",
              "      <th>N=10</th>\n",
              "      <th>N=2</th>\n",
              "      <th>N=5</th>\n",
              "      <th>N=10</th>\n",
              "      <th>N=2</th>\n",
              "      <th>N=5</th>\n",
              "      <th>N=10</th>\n",
              "      <th>N=2</th>\n",
              "      <th>N=5</th>\n",
              "      <th>N=10</th>\n",
              "      <th>N=2</th>\n",
              "      <th>N=5</th>\n",
              "      <th>N=10</th>\n",
              "      <th>N=2</th>\n",
              "      <th>N=5</th>\n",
              "      <th>N=10</th>\n",
              "    </tr>\n",
              "  </thead>\n",
              "  <tbody>\n",
              "    <tr>\n",
              "      <th>0</th>\n",
              "      <td>1.25</td>\n",
              "      <td>1.13</td>\n",
              "      <td>1.09</td>\n",
              "      <td>0.74</td>\n",
              "      <td>0.23</td>\n",
              "      <td>0.74</td>\n",
              "      <td>12.54</td>\n",
              "      <td>4.45</td>\n",
              "      <td>20.68</td>\n",
              "      <td>0.22</td>\n",
              "      <td>0.23</td>\n",
              "      <td>0.75</td>\n",
              "      <td>14.92</td>\n",
              "      <td>4.35</td>\n",
              "      <td>22.13</td>\n",
              "      <td>0.72</td>\n",
              "      <td>0.22</td>\n",
              "      <td>0.22</td>\n",
              "    </tr>\n",
              "  </tbody>\n",
              "</table>\n",
              "</div>"
            ],
            "text/plain": [
              "Algorithm            Item-Item              ...                                       \n",
              "Rating Function Simple Average              ... Weighted Average with Bias            \n",
              "Metric                    RMSE              ...               Precision@10            \n",
              "Neighbours                 N=2   N=5  N=10  ...                        N=2   N=5  N=10\n",
              "0                         1.25  1.13  1.09  ...                       0.72  0.22  0.22\n",
              "\n",
              "[1 rows x 18 columns]"
            ]
          },
          "metadata": {}
        }
      ]
    },
    {
      "cell_type": "code",
      "metadata": {
        "id": "2xw3USnoMmkB"
      },
      "source": [
        ""
      ],
      "execution_count": null,
      "outputs": []
    }
  ]
}