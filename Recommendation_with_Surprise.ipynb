{
  "nbformat": 4,
  "nbformat_minor": 0,
  "metadata": {
    "colab": {
      "name": "Data_Mining_Assignment1_Exercise5.ipynb",
      "provenance": []
    },
    "kernelspec": {
      "name": "python3",
      "display_name": "Python 3"
    },
    "language_info": {
      "name": "python"
    }
  },
  "cells": [
    {
      "cell_type": "code",
      "metadata": {
        "id": "LGvbRzIrznqM",
        "colab": {
          "base_uri": "https://localhost:8080/"
        },
        "outputId": "fd38c50e-6097-4357-cb25-464f33987600"
      },
      "source": [
        "!pip install scikit-surprise"
      ],
      "execution_count": 1,
      "outputs": [
        {
          "output_type": "stream",
          "name": "stdout",
          "text": [
            "Collecting scikit-surprise\n",
            "  Downloading scikit-surprise-1.1.1.tar.gz (11.8 MB)\n",
            "\u001b[K     |████████████████████████████████| 11.8 MB 49 kB/s \n",
            "\u001b[?25hRequirement already satisfied: joblib>=0.11 in /usr/local/lib/python3.7/dist-packages (from scikit-surprise) (1.0.1)\n",
            "Requirement already satisfied: numpy>=1.11.2 in /usr/local/lib/python3.7/dist-packages (from scikit-surprise) (1.19.5)\n",
            "Requirement already satisfied: scipy>=1.0.0 in /usr/local/lib/python3.7/dist-packages (from scikit-surprise) (1.4.1)\n",
            "Requirement already satisfied: six>=1.10.0 in /usr/local/lib/python3.7/dist-packages (from scikit-surprise) (1.15.0)\n",
            "Building wheels for collected packages: scikit-surprise\n",
            "  Building wheel for scikit-surprise (setup.py) ... \u001b[?25l\u001b[?25hdone\n",
            "  Created wheel for scikit-surprise: filename=scikit_surprise-1.1.1-cp37-cp37m-linux_x86_64.whl size=1619371 sha256=d8c5329a588dd75c082c06c1c240dc7b5acd321241608b9f173a6a400448428d\n",
            "  Stored in directory: /root/.cache/pip/wheels/76/44/74/b498c42be47b2406bd27994e16c5188e337c657025ab400c1c\n",
            "Successfully built scikit-surprise\n",
            "Installing collected packages: scikit-surprise\n",
            "Successfully installed scikit-surprise-1.1.1\n"
          ]
        }
      ]
    },
    {
      "cell_type": "code",
      "metadata": {
        "id": "1sj3o1T90Y9A"
      },
      "source": [
        "from surprise import BaselineOnly,SVD\n",
        "from surprise import Dataset\n",
        "from surprise import Reader\n",
        "from surprise.model_selection import cross_validate\n",
        "import os\n",
        "from surprise import KNNBasic,KNNBaseline\n",
        "import pandas as pd\n",
        "import numpy as np\n",
        "from sklearn.metrics import mean_squared_error\n",
        "from surprise import accuracy\n"
      ],
      "execution_count": 2,
      "outputs": []
    },
    {
      "cell_type": "code",
      "metadata": {
        "id": "viFkYLZO0QBg",
        "colab": {
          "base_uri": "https://localhost:8080/"
        },
        "outputId": "2e65428e-af6b-4a9d-e2ab-776883a412c0"
      },
      "source": [
        "!wget https://files.grouplens.org/datasets/movielens/ml-100k.zip\n",
        "!unzip ml-100k.zip"
      ],
      "execution_count": 3,
      "outputs": [
        {
          "output_type": "stream",
          "name": "stdout",
          "text": [
            "--2021-10-03 16:20:45--  https://files.grouplens.org/datasets/movielens/ml-100k.zip\n",
            "Resolving files.grouplens.org (files.grouplens.org)... 128.101.65.152\n",
            "Connecting to files.grouplens.org (files.grouplens.org)|128.101.65.152|:443... connected.\n",
            "HTTP request sent, awaiting response... 200 OK\n",
            "Length: 4924029 (4.7M) [application/zip]\n",
            "Saving to: ‘ml-100k.zip’\n",
            "\n",
            "ml-100k.zip         100%[===================>]   4.70M  17.1MB/s    in 0.3s    \n",
            "\n",
            "2021-10-03 16:20:46 (17.1 MB/s) - ‘ml-100k.zip’ saved [4924029/4924029]\n",
            "\n",
            "Archive:  ml-100k.zip\n",
            "   creating: ml-100k/\n",
            "  inflating: ml-100k/allbut.pl       \n",
            "  inflating: ml-100k/mku.sh          \n",
            "  inflating: ml-100k/README          \n",
            "  inflating: ml-100k/u.data          \n",
            "  inflating: ml-100k/u.genre         \n",
            "  inflating: ml-100k/u.info          \n",
            "  inflating: ml-100k/u.item          \n",
            "  inflating: ml-100k/u.occupation    \n",
            "  inflating: ml-100k/u.user          \n",
            "  inflating: ml-100k/u1.base         \n",
            "  inflating: ml-100k/u1.test         \n",
            "  inflating: ml-100k/u2.base         \n",
            "  inflating: ml-100k/u2.test         \n",
            "  inflating: ml-100k/u3.base         \n",
            "  inflating: ml-100k/u3.test         \n",
            "  inflating: ml-100k/u4.base         \n",
            "  inflating: ml-100k/u4.test         \n",
            "  inflating: ml-100k/u5.base         \n",
            "  inflating: ml-100k/u5.test         \n",
            "  inflating: ml-100k/ua.base         \n",
            "  inflating: ml-100k/ua.test         \n",
            "  inflating: ml-100k/ub.base         \n",
            "  inflating: ml-100k/ub.test         \n"
          ]
        }
      ]
    },
    {
      "cell_type": "code",
      "metadata": {
        "id": "VadHq4B8zvlM"
      },
      "source": [
        "# path to dataset file\n",
        "file_path = os.path.expanduser('ml-100k/u1.base')\n",
        "reader = Reader(line_format='user item rating timestamp', sep='\\t')\n",
        "\n",
        "traindata = Dataset.load_from_file(file_path, reader=reader)"
      ],
      "execution_count": 4,
      "outputs": []
    },
    {
      "cell_type": "code",
      "metadata": {
        "id": "2TORgMVa09E7"
      },
      "source": [
        "trainset = traindata.build_full_trainset()"
      ],
      "execution_count": 5,
      "outputs": []
    },
    {
      "cell_type": "code",
      "metadata": {
        "id": "5VVZRvb_Hpgw"
      },
      "source": [
        "# path to dataset file\n",
        "file_path = os.path.expanduser('ml-100k/u1.test')\n",
        "reader = Reader(line_format='user item rating timestamp', sep='\\t')\n",
        "testDf = pd.read_csv(\"ml-100k/u1.test\",sep='\\t',names=['user_id','item_id','rating','timestamp'])\n",
        "testdata = Dataset.load_from_df(testDf[['user_id', 'item_id', 'rating']],reader)"
      ],
      "execution_count": 6,
      "outputs": []
    },
    {
      "cell_type": "code",
      "metadata": {
        "id": "pKtOHpd-Hpgw"
      },
      "source": [
        "testset = [testdata.df.loc[i].to_list() for i in range(len(testdata.df))]"
      ],
      "execution_count": 7,
      "outputs": []
    },
    {
      "cell_type": "code",
      "metadata": {
        "id": "RtxgJb8zPXZ-"
      },
      "source": [
        "testData = pd.read_csv(\"ml-100k/u1.test\",sep='\\t',names=['user_id','item_id','rating','timestamp'])"
      ],
      "execution_count": 9,
      "outputs": []
    },
    {
      "cell_type": "markdown",
      "metadata": {
        "id": "AQsiKjOGO196"
      },
      "source": [
        "**1.Item-Item Similarity**"
      ]
    },
    {
      "cell_type": "markdown",
      "metadata": {
        "id": "FsPK7yopPUaq"
      },
      "source": [
        "Number of neighbours = 2"
      ]
    },
    {
      "cell_type": "code",
      "metadata": {
        "colab": {
          "base_uri": "https://localhost:8080/"
        },
        "id": "pmWslOefOr1v",
        "outputId": "11162bc0-59e7-44fb-c5a2-0fa8d6b711f4"
      },
      "source": [
        "algo = KNNBaseline(sim_options={\n",
        "        'name': 'cosine',\n",
        "        'user_based': False\n",
        "        },k=2)\\\n",
        "        .fit(trainset)"
      ],
      "execution_count": 20,
      "outputs": [
        {
          "output_type": "stream",
          "name": "stdout",
          "text": [
            "Estimating biases using als...\n",
            "Computing the cosine similarity matrix...\n",
            "Done computing similarity matrix.\n"
          ]
        }
      ]
    },
    {
      "cell_type": "code",
      "metadata": {
        "id": "DB25XtRpVQPR"
      },
      "source": [
        "testData['predicted_rating']=[0 for _ in range(testData.shape[0])]\n",
        "for index,row in testData.iterrows():\n",
        "    testData.loc[index,'predicted_rating']=algo.predict(trainset.to_raw_uid(row['user_id']-1),trainset.to_raw_iid(row['item_id']-1)).est\n",
        "testData['predicted_rating']=testData['predicted_rating'].fillna(0)"
      ],
      "execution_count": 21,
      "outputs": []
    },
    {
      "cell_type": "code",
      "metadata": {
        "id": "oON-0aV2XG3I",
        "colab": {
          "base_uri": "https://localhost:8080/"
        },
        "outputId": "ad549a3b-95dd-458c-eb74-050c6d4d6fc9"
      },
      "source": [
        "mean_squared_error(testData['rating'],testData['predicted_rating'],squared=False)"
      ],
      "execution_count": 22,
      "outputs": [
        {
          "output_type": "execute_result",
          "data": {
            "text/plain": [
              "1.333701462740142"
            ]
          },
          "metadata": {},
          "execution_count": 22
        }
      ]
    },
    {
      "cell_type": "markdown",
      "metadata": {
        "id": "NOa-jKrHXHLN"
      },
      "source": [
        "Number of neighbours = 5"
      ]
    },
    {
      "cell_type": "code",
      "metadata": {
        "colab": {
          "base_uri": "https://localhost:8080/"
        },
        "id": "ZY8F3JzVXHLN",
        "outputId": "af78d2de-7b2e-461b-bfe9-616d6fbb613c"
      },
      "source": [
        "algo_ = KNNBaseline(sim_options={\n",
        "        'name': 'cosine',\n",
        "        'user_based': False\n",
        "        },k=5)\\\n",
        "        .fit(trainset)"
      ],
      "execution_count": 23,
      "outputs": [
        {
          "output_type": "stream",
          "name": "stdout",
          "text": [
            "Estimating biases using als...\n",
            "Computing the cosine similarity matrix...\n",
            "Done computing similarity matrix.\n"
          ]
        }
      ]
    },
    {
      "cell_type": "code",
      "metadata": {
        "id": "NPnP6U1z_G5t"
      },
      "source": [
        "testData['predicted_rating']=[0 for _ in range(testData.shape[0])]\n",
        "for index,row in testData.iterrows():\n",
        "    testData.loc[index,'predicted_rating']=algo.predict(trainset.to_raw_uid(row['user_id']-1),trainset.to_raw_iid(row['item_id']-1)).est\n",
        "testData['predicted_rating']=testData['predicted_rating'].fillna(0)"
      ],
      "execution_count": 24,
      "outputs": []
    },
    {
      "cell_type": "code",
      "metadata": {
        "colab": {
          "base_uri": "https://localhost:8080/"
        },
        "id": "JYZVesObuLYt",
        "outputId": "be382af3-e7b6-42fc-dca4-dfd897eb5814"
      },
      "source": [
        "\n",
        "mean_squared_error(testData['rating'],testData['predicted_rating'],squared=False)"
      ],
      "execution_count": 25,
      "outputs": [
        {
          "output_type": "execute_result",
          "data": {
            "text/plain": [
              "1.333701462740142"
            ]
          },
          "metadata": {},
          "execution_count": 25
        }
      ]
    },
    {
      "cell_type": "markdown",
      "metadata": {
        "id": "0Bzh8OA8XzEU"
      },
      "source": [
        "Number of neighbours = 10"
      ]
    },
    {
      "cell_type": "code",
      "metadata": {
        "colab": {
          "base_uri": "https://localhost:8080/"
        },
        "id": "S1KIioSCXzEU",
        "outputId": "d8a59d94-40fe-4cc2-b309-79c5b5395954"
      },
      "source": [
        "algo = KNNBaseline(sim_options={\n",
        "        'name': 'cosine',\n",
        "        'user_based': False\n",
        "        },k=10)\\\n",
        "        .fit(trainset)"
      ],
      "execution_count": 30,
      "outputs": [
        {
          "output_type": "stream",
          "name": "stdout",
          "text": [
            "Estimating biases using als...\n",
            "Computing the cosine similarity matrix...\n",
            "Done computing similarity matrix.\n"
          ]
        }
      ]
    },
    {
      "cell_type": "code",
      "metadata": {
        "id": "mQef0QPEXzEV"
      },
      "source": [
        "testData['predicted_rating']=[0 for _ in range(testData.shape[0])]\n",
        "for index,row in testData.iterrows():\n",
        "    testData.loc[index,'predicted_rating']=algo.predict(trainset.to_raw_uid(row['user_id']-1),trainset.to_raw_iid(row['item_id']-1)).est\n",
        "testData['predicted_rating']=testData['predicted_rating'].fillna(0)"
      ],
      "execution_count": 31,
      "outputs": []
    },
    {
      "cell_type": "code",
      "metadata": {
        "colab": {
          "base_uri": "https://localhost:8080/"
        },
        "id": "t99Kp7jKaEg8",
        "outputId": "a02433e5-2dfc-4614-9850-0fa30a58b20e"
      },
      "source": [
        "\n",
        "mean_squared_error(testData['rating'],testData['predicted_rating'],squared=False)"
      ],
      "execution_count": 32,
      "outputs": [
        {
          "output_type": "execute_result",
          "data": {
            "text/plain": [
              "1.1918932830232007"
            ]
          },
          "metadata": {},
          "execution_count": 32
        }
      ]
    },
    {
      "cell_type": "code",
      "metadata": {
        "id": "4W6YUW8UHmKe"
      },
      "source": [
        ""
      ],
      "execution_count": null,
      "outputs": []
    },
    {
      "cell_type": "markdown",
      "metadata": {
        "id": "Fn0SKLnO9ZUM"
      },
      "source": [
        "**2.User-User Similarity**"
      ]
    },
    {
      "cell_type": "markdown",
      "metadata": {
        "id": "ZiRpdgUW9ZUO"
      },
      "source": [
        " Number of neighbours = 2"
      ]
    },
    {
      "cell_type": "code",
      "metadata": {
        "colab": {
          "base_uri": "https://localhost:8080/"
        },
        "id": "3-eHQlwH9ZUP",
        "outputId": "c89c6673-e0a6-46bf-83ec-c77cf9bd0329"
      },
      "source": [
        "algo = KNNBaseline(sim_options={\n",
        "        'name': 'cosine',\n",
        "        'user_based': True\n",
        "        },k=2)\\\n",
        "        .fit(trainset)"
      ],
      "execution_count": 10,
      "outputs": [
        {
          "output_type": "stream",
          "name": "stdout",
          "text": [
            "Estimating biases using als...\n",
            "Computing the cosine similarity matrix...\n",
            "Done computing similarity matrix.\n"
          ]
        }
      ]
    },
    {
      "cell_type": "code",
      "metadata": {
        "id": "1QWYTaKk9ZUP"
      },
      "source": [
        "testData['predicted_rating']=[0 for _ in range(testData.shape[0])]\n",
        "for index,row in testData.iterrows():\n",
        "    testData.loc[index,'predicted_rating']=algo.predict(trainset.to_raw_uid(row['user_id']-1),trainset.to_raw_iid(row['item_id']-1)).est\n",
        "testData['predicted_rating']=testData['predicted_rating'].fillna(0)"
      ],
      "execution_count": 11,
      "outputs": []
    },
    {
      "cell_type": "code",
      "metadata": {
        "colab": {
          "base_uri": "https://localhost:8080/"
        },
        "id": "2SxWcR0I9ZUQ",
        "outputId": "b83fca0c-9795-4e33-a540-e4bf4e1588ea"
      },
      "source": [
        "mean_squared_error(testData['rating'],testData['predicted_rating'],squared=False)"
      ],
      "execution_count": 12,
      "outputs": [
        {
          "output_type": "execute_result",
          "data": {
            "text/plain": [
              "1.3614523253544213"
            ]
          },
          "metadata": {},
          "execution_count": 12
        }
      ]
    },
    {
      "cell_type": "markdown",
      "metadata": {
        "id": "SZv6VI7i9ZUQ"
      },
      "source": [
        " Number of neighbours = 5"
      ]
    },
    {
      "cell_type": "code",
      "metadata": {
        "colab": {
          "base_uri": "https://localhost:8080/"
        },
        "id": "I3Frf83o9ZUQ",
        "outputId": "556cff7a-f706-49de-b567-09becef1c006"
      },
      "source": [
        "algo_ = KNNBaseline(sim_options={\n",
        "        'name': 'cosine',\n",
        "        'user_based': True\n",
        "        },k=5)\\\n",
        "        .fit(trainset)"
      ],
      "execution_count": 15,
      "outputs": [
        {
          "output_type": "stream",
          "name": "stdout",
          "text": [
            "Estimating biases using als...\n",
            "Computing the cosine similarity matrix...\n",
            "Done computing similarity matrix.\n"
          ]
        }
      ]
    },
    {
      "cell_type": "code",
      "metadata": {
        "colab": {
          "base_uri": "https://localhost:8080/"
        },
        "id": "LbHzFuJ09ZUQ",
        "outputId": "285ed17d-6897-4d79-cdc5-66a11d58adac"
      },
      "source": [
        "testData['predicted_rating']=[0 for _ in range(testData.shape[0])]\n",
        "for index,row in testData.iterrows():\n",
        "    testData.loc[index,'predicted_rating']=algo.predict(trainset.to_raw_uid(row['user_id']-1),trainset.to_raw_iid(row['item_id']-1)).est\n",
        "testData['predicted_rating']=testData['predicted_rating'].fillna(0)\n",
        "mean_squared_error(testData['rating'],testData['predicted_rating'],squared=False)"
      ],
      "execution_count": 16,
      "outputs": [
        {
          "output_type": "execute_result",
          "data": {
            "text/plain": [
              "1.3614523253544213"
            ]
          },
          "metadata": {},
          "execution_count": 16
        }
      ]
    },
    {
      "cell_type": "code",
      "metadata": {
        "id": "147iYu9e9ZUR"
      },
      "source": [
        ""
      ],
      "execution_count": null,
      "outputs": []
    },
    {
      "cell_type": "markdown",
      "metadata": {
        "id": "la846TPs9ZUR"
      },
      "source": [
        " Number of neighbours = 10"
      ]
    },
    {
      "cell_type": "code",
      "metadata": {
        "colab": {
          "base_uri": "https://localhost:8080/"
        },
        "id": "x6ycrJCI9ZUR",
        "outputId": "545da327-5fbc-4099-d71f-692ec1f4a643"
      },
      "source": [
        "algo = KNNBasic(sim_options={\n",
        "        'name': 'cosine',\n",
        "        'user_based': True\n",
        "        },k=10)\\\n",
        "        .fit(trainset)"
      ],
      "execution_count": 17,
      "outputs": [
        {
          "output_type": "stream",
          "name": "stdout",
          "text": [
            "Computing the cosine similarity matrix...\n",
            "Done computing similarity matrix.\n"
          ]
        }
      ]
    },
    {
      "cell_type": "code",
      "metadata": {
        "id": "BcCo56kR9ZUR"
      },
      "source": [
        "testData['predicted_rating']=[0 for _ in range(testData.shape[0])]\n",
        "for index,row in testData.iterrows():\n",
        "    testData.loc[index,'predicted_rating']=algo.predict(trainset.to_raw_uid(row['user_id']-1),trainset.to_raw_iid(row['item_id']-1)).est\n",
        "testData['predicted_rating']=testData['predicted_rating'].fillna(0)"
      ],
      "execution_count": 18,
      "outputs": []
    },
    {
      "cell_type": "code",
      "metadata": {
        "colab": {
          "base_uri": "https://localhost:8080/"
        },
        "id": "puhlo1829ZUR",
        "outputId": "faa30087-3b6a-4f0b-94d0-6488dcb2ab05"
      },
      "source": [
        "mean_squared_error(testData['rating'],testData['predicted_rating'],squared=False)"
      ],
      "execution_count": 19,
      "outputs": [
        {
          "output_type": "execute_result",
          "data": {
            "text/plain": [
              "1.31443944079672"
            ]
          },
          "metadata": {},
          "execution_count": 19
        }
      ]
    },
    {
      "cell_type": "code",
      "metadata": {
        "id": "_-AoUs9QHmQm"
      },
      "source": [
        ""
      ],
      "execution_count": null,
      "outputs": []
    },
    {
      "cell_type": "markdown",
      "metadata": {
        "id": "ERgabvJBqkAF"
      },
      "source": [
        "**3.SVD**"
      ]
    },
    {
      "cell_type": "code",
      "metadata": {
        "id": "hqM7YkCrGdmZ"
      },
      "source": [
        ""
      ],
      "execution_count": null,
      "outputs": []
    },
    {
      "cell_type": "markdown",
      "metadata": {
        "id": "oQOikkJ-GfKy"
      },
      "source": [
        "Number of factors=2"
      ]
    },
    {
      "cell_type": "code",
      "metadata": {
        "id": "XDLqUF29qmoT"
      },
      "source": [
        "algo = SVD(n_factors=2).fit(trainset)"
      ],
      "execution_count": 33,
      "outputs": []
    },
    {
      "cell_type": "code",
      "metadata": {
        "id": "WDBAI40oqmoU"
      },
      "source": [
        "testData['predicted_rating']=[0 for _ in range(testData.shape[0])]\n",
        "for index,row in testData.iterrows():\n",
        "    testData.loc[index,'predicted_rating']=algo.predict(trainset.to_raw_uid(row['user_id']-1),trainset.to_raw_iid(row['item_id']-1)).est\n",
        "testData['predicted_rating']=testData['predicted_rating'].fillna(0)"
      ],
      "execution_count": 34,
      "outputs": []
    },
    {
      "cell_type": "code",
      "metadata": {
        "colab": {
          "base_uri": "https://localhost:8080/"
        },
        "id": "2VZlX9ZiquPp",
        "outputId": "1f81bb73-a5dd-496b-a7b7-6ed2234c36aa"
      },
      "source": [
        "mean_squared_error(testData['rating'],testData['predicted_rating'],squared=False)"
      ],
      "execution_count": 35,
      "outputs": [
        {
          "output_type": "execute_result",
          "data": {
            "text/plain": [
              "1.1692617749665477"
            ]
          },
          "metadata": {},
          "execution_count": 35
        }
      ]
    },
    {
      "cell_type": "code",
      "metadata": {
        "id": "bQJQm0jQq7zV"
      },
      "source": [
        ""
      ],
      "execution_count": null,
      "outputs": []
    },
    {
      "cell_type": "code",
      "metadata": {
        "id": "NjNueBbqHFhE"
      },
      "source": [
        ""
      ],
      "execution_count": null,
      "outputs": []
    },
    {
      "cell_type": "markdown",
      "metadata": {
        "id": "N-H5IU6OHFx9"
      },
      "source": [
        "Number of factors=5"
      ]
    },
    {
      "cell_type": "code",
      "metadata": {
        "id": "w4gcntGHHFx9"
      },
      "source": [
        "algo = SVD(n_factors=5).fit(trainset)"
      ],
      "execution_count": 36,
      "outputs": []
    },
    {
      "cell_type": "code",
      "metadata": {
        "id": "QslQlkJaHFx9"
      },
      "source": [
        "testData['predicted_rating']=[0 for _ in range(testData.shape[0])]\n",
        "for index,row in testData.iterrows():\n",
        "    testData.loc[index,'predicted_rating']=algo.predict(trainset.to_raw_uid(row['user_id']-1),trainset.to_raw_iid(row['item_id']-1)).est\n",
        "testData['predicted_rating']=testData['predicted_rating'].fillna(0)"
      ],
      "execution_count": 37,
      "outputs": []
    },
    {
      "cell_type": "code",
      "metadata": {
        "colab": {
          "base_uri": "https://localhost:8080/"
        },
        "id": "Im2lX92HHFx9",
        "outputId": "87f3d9ab-f422-4c3c-f98e-4be038821536"
      },
      "source": [
        "mean_squared_error(testData['rating'],testData['predicted_rating'],squared=False)"
      ],
      "execution_count": 38,
      "outputs": [
        {
          "output_type": "execute_result",
          "data": {
            "text/plain": [
              "1.169774408990143"
            ]
          },
          "metadata": {},
          "execution_count": 38
        }
      ]
    },
    {
      "cell_type": "code",
      "metadata": {
        "id": "nPfDRkKWHGjL"
      },
      "source": [
        ""
      ],
      "execution_count": null,
      "outputs": []
    },
    {
      "cell_type": "markdown",
      "metadata": {
        "id": "MDWgoMk-HG0L"
      },
      "source": [
        "Number of factors=10"
      ]
    },
    {
      "cell_type": "code",
      "metadata": {
        "id": "hmjy6axlHG0L"
      },
      "source": [
        "algo = SVD(n_factors=10).fit(trainset)"
      ],
      "execution_count": 39,
      "outputs": []
    },
    {
      "cell_type": "code",
      "metadata": {
        "id": "ldLGx5TuHG0M"
      },
      "source": [
        "testData['predicted_rating']=[0 for _ in range(testData.shape[0])]\n",
        "for index,row in testData.iterrows():\n",
        "    testData.loc[index,'predicted_rating']=algo.predict(trainset.to_raw_uid(row['user_id']-1),trainset.to_raw_iid(row['item_id']-1)).est\n",
        "testData['predicted_rating']=testData['predicted_rating'].fillna(0)"
      ],
      "execution_count": 40,
      "outputs": []
    },
    {
      "cell_type": "code",
      "metadata": {
        "colab": {
          "base_uri": "https://localhost:8080/"
        },
        "id": "b6zOcLQgHG0M",
        "outputId": "71d6124a-32b7-4023-a9f2-70dfdabd5941"
      },
      "source": [
        "mean_squared_error(testData['rating'],testData['predicted_rating'],squared=False)"
      ],
      "execution_count": 41,
      "outputs": [
        {
          "output_type": "execute_result",
          "data": {
            "text/plain": [
              "1.1700706835595753"
            ]
          },
          "metadata": {},
          "execution_count": 41
        }
      ]
    },
    {
      "cell_type": "code",
      "metadata": {
        "id": "jBEjfJ6OHQGA"
      },
      "source": [
        ""
      ],
      "execution_count": null,
      "outputs": []
    }
  ]
}