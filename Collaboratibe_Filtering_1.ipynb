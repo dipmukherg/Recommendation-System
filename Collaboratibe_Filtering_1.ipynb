{
  "nbformat": 4,
  "nbformat_minor": 0,
  "metadata": {
    "colab": {
      "name": "Data_Mining_Assignment1_Exercise1.ipynb",
      "provenance": [],
      "collapsed_sections": []
    },
    "kernelspec": {
      "name": "python3",
      "display_name": "Python 3"
    },
    "language_info": {
      "name": "python"
    }
  },
  "cells": [
    {
      "cell_type": "markdown",
      "metadata": {
        "id": "BdUBBTs5h9eT"
      },
      "source": [
        "1. Importing Libraries"
      ]
    },
    {
      "cell_type": "code",
      "metadata": {
        "id": "hJ4jMXaliOdu"
      },
      "source": [
        "import os\n",
        "import pandas as pd\n",
        "import numpy as np\n",
        "from scipy.sparse import csr_matrix\n",
        "import pickle\n",
        "from scipy import sparse,spatial,stats\n",
        "from sklearn.metrics import mean_squared_error\n",
        "from sklearn.metrics.pairwise import cosine_similarity"
      ],
      "execution_count": null,
      "outputs": []
    },
    {
      "cell_type": "code",
      "metadata": {
        "id": "ciN8nWyxi8FA",
        "colab": {
          "base_uri": "https://localhost:8080/"
        },
        "outputId": "3e14dc40-f762-472b-8f0b-df519845fb18"
      },
      "source": [
        "#### Getting the Dataset\n",
        "!wget https://files.grouplens.org/datasets/movielens/ml-100k.zip"
      ],
      "execution_count": null,
      "outputs": [
        {
          "output_type": "stream",
          "name": "stdout",
          "text": [
            "--2021-09-19 05:56:32--  https://files.grouplens.org/datasets/movielens/ml-100k.zip\n",
            "Resolving files.grouplens.org (files.grouplens.org)... 128.101.65.152\n",
            "Connecting to files.grouplens.org (files.grouplens.org)|128.101.65.152|:443... connected.\n",
            "HTTP request sent, awaiting response... 200 OK\n",
            "Length: 4924029 (4.7M) [application/zip]\n",
            "Saving to: ‘ml-100k.zip’\n",
            "\n",
            "ml-100k.zip         100%[===================>]   4.70M  10.2MB/s    in 0.5s    \n",
            "\n",
            "2021-09-19 05:56:32 (10.2 MB/s) - ‘ml-100k.zip’ saved [4924029/4924029]\n",
            "\n"
          ]
        }
      ]
    },
    {
      "cell_type": "code",
      "metadata": {
        "id": "apK2P-DXjBhv",
        "colab": {
          "base_uri": "https://localhost:8080/"
        },
        "outputId": "9bda4d08-3e7e-476b-9230-3439cea33465"
      },
      "source": [
        "!unzip ml-100k.zip"
      ],
      "execution_count": null,
      "outputs": [
        {
          "output_type": "stream",
          "name": "stdout",
          "text": [
            "Archive:  ml-100k.zip\n",
            "   creating: ml-100k/\n",
            "  inflating: ml-100k/allbut.pl       \n",
            "  inflating: ml-100k/mku.sh          \n",
            "  inflating: ml-100k/README          \n",
            "  inflating: ml-100k/u.data          \n",
            "  inflating: ml-100k/u.genre         \n",
            "  inflating: ml-100k/u.info          \n",
            "  inflating: ml-100k/u.item          \n",
            "  inflating: ml-100k/u.occupation    \n",
            "  inflating: ml-100k/u.user          \n",
            "  inflating: ml-100k/u1.base         \n",
            "  inflating: ml-100k/u1.test         \n",
            "  inflating: ml-100k/u2.base         \n",
            "  inflating: ml-100k/u2.test         \n",
            "  inflating: ml-100k/u3.base         \n",
            "  inflating: ml-100k/u3.test         \n",
            "  inflating: ml-100k/u4.base         \n",
            "  inflating: ml-100k/u4.test         \n",
            "  inflating: ml-100k/u5.base         \n",
            "  inflating: ml-100k/u5.test         \n",
            "  inflating: ml-100k/ua.base         \n",
            "  inflating: ml-100k/ua.test         \n",
            "  inflating: ml-100k/ub.base         \n",
            "  inflating: ml-100k/ub.test         \n"
          ]
        }
      ]
    },
    {
      "cell_type": "code",
      "metadata": {
        "id": "YZv8oBe2jl5-"
      },
      "source": [
        "#### Creating the Train Dataset\n",
        "trainData = pd.read_csv(\"ml-100k/u1.base\",sep='\\t',names=['user_id','item_id','rating','timestamp'])"
      ],
      "execution_count": null,
      "outputs": []
    },
    {
      "cell_type": "code",
      "metadata": {
        "colab": {
          "base_uri": "https://localhost:8080/",
          "height": 203
        },
        "id": "Hu97hC9YldAr",
        "outputId": "6e5ddf96-1f7d-43d1-93af-283206b7038c"
      },
      "source": [
        "trainData.head(5)"
      ],
      "execution_count": null,
      "outputs": [
        {
          "output_type": "execute_result",
          "data": {
            "text/html": [
              "<div>\n",
              "<style scoped>\n",
              "    .dataframe tbody tr th:only-of-type {\n",
              "        vertical-align: middle;\n",
              "    }\n",
              "\n",
              "    .dataframe tbody tr th {\n",
              "        vertical-align: top;\n",
              "    }\n",
              "\n",
              "    .dataframe thead th {\n",
              "        text-align: right;\n",
              "    }\n",
              "</style>\n",
              "<table border=\"1\" class=\"dataframe\">\n",
              "  <thead>\n",
              "    <tr style=\"text-align: right;\">\n",
              "      <th></th>\n",
              "      <th>user_id</th>\n",
              "      <th>item_id</th>\n",
              "      <th>rating</th>\n",
              "      <th>timestamp</th>\n",
              "    </tr>\n",
              "  </thead>\n",
              "  <tbody>\n",
              "    <tr>\n",
              "      <th>0</th>\n",
              "      <td>1</td>\n",
              "      <td>1</td>\n",
              "      <td>5</td>\n",
              "      <td>874965758</td>\n",
              "    </tr>\n",
              "    <tr>\n",
              "      <th>1</th>\n",
              "      <td>1</td>\n",
              "      <td>2</td>\n",
              "      <td>3</td>\n",
              "      <td>876893171</td>\n",
              "    </tr>\n",
              "    <tr>\n",
              "      <th>2</th>\n",
              "      <td>1</td>\n",
              "      <td>3</td>\n",
              "      <td>4</td>\n",
              "      <td>878542960</td>\n",
              "    </tr>\n",
              "    <tr>\n",
              "      <th>3</th>\n",
              "      <td>1</td>\n",
              "      <td>4</td>\n",
              "      <td>3</td>\n",
              "      <td>876893119</td>\n",
              "    </tr>\n",
              "    <tr>\n",
              "      <th>4</th>\n",
              "      <td>1</td>\n",
              "      <td>5</td>\n",
              "      <td>3</td>\n",
              "      <td>889751712</td>\n",
              "    </tr>\n",
              "  </tbody>\n",
              "</table>\n",
              "</div>"
            ],
            "text/plain": [
              "   user_id  item_id  rating  timestamp\n",
              "0        1        1       5  874965758\n",
              "1        1        2       3  876893171\n",
              "2        1        3       4  878542960\n",
              "3        1        4       3  876893119\n",
              "4        1        5       3  889751712"
            ]
          },
          "metadata": {},
          "execution_count": 5
        }
      ]
    },
    {
      "cell_type": "code",
      "metadata": {
        "colab": {
          "base_uri": "https://localhost:8080/"
        },
        "id": "U9pOTkVglwtU",
        "outputId": "e2ccfe15-40da-4411-c89c-c7ceab436c5a"
      },
      "source": [
        "########## Number of unique users & unique movies\n",
        "print(\"Number of unique Users: \"+str(len(trainData['user_id'].unique())))\n",
        "print(\"Number of unique Movies: \"+str(len(trainData['item_id'].unique())))"
      ],
      "execution_count": null,
      "outputs": [
        {
          "output_type": "stream",
          "name": "stdout",
          "text": [
            "Number of unique Users: 943\n",
            "Number of unique Movies: 1650\n"
          ]
        }
      ]
    },
    {
      "cell_type": "code",
      "metadata": {
        "id": "1xXYwnGwl7je"
      },
      "source": [
        "####### Utility Matrix\n",
        "utilityMatrix = csr_matrix((943, 1682), dtype=np.float)\n",
        "for index, row in trainData.iterrows():\n",
        "    # print(f\"{index+1} row and rating {float(row['rating'])}\")\n",
        "    utilityMatrix[row['user_id']-1,row['item_id']-1]=float(row['rating'])\n"
      ],
      "execution_count": null,
      "outputs": []
    },
    {
      "cell_type": "code",
      "metadata": {
        "id": "cnsHkdEPw7R2"
      },
      "source": [
        "sparse.save_npz(\"utilityMatrix.npz\",utilityMatrix)"
      ],
      "execution_count": null,
      "outputs": []
    },
    {
      "cell_type": "code",
      "metadata": {
        "id": "2NscrLWMw7wc"
      },
      "source": [
        "utilityMatrix=sparse.load_npz(\"utilityMatrix.npz\")"
      ],
      "execution_count": null,
      "outputs": []
    },
    {
      "cell_type": "code",
      "metadata": {
        "id": "P3Y5pDLonCVn"
      },
      "source": [
        "testData = pd.read_csv(\"ml-100k/u1.test\",sep='\\t',names=['user_id','item_id','rating','timestamp'])"
      ],
      "execution_count": null,
      "outputs": []
    },
    {
      "cell_type": "markdown",
      "metadata": {
        "id": "6tYdLmPmjS-p"
      },
      "source": [
        "1.Item-Item Similarity"
      ]
    },
    {
      "cell_type": "markdown",
      "metadata": {
        "id": "cjQziKUzjefZ"
      },
      "source": [
        "1.1 Jaccard Similarity"
      ]
    },
    {
      "cell_type": "code",
      "metadata": {
        "id": "fko-l8Z1tGTA"
      },
      "source": [
        "#For jaccard similarity we have to generate User sets like movie1={user1,user2,user5} for all movies and Movie sets like user1={movie1,movie2,movie10}\n",
        "movieSets = dict.fromkeys(range(1,1683))\n",
        "for key in movieSets.keys():\n",
        "  movieSets[key]=set()\n",
        "\n",
        "for index, row in trainData.iterrows():\n",
        "    if row['user_id'] not in movieSets[row['item_id']]:\n",
        "      movieSets[row['item_id']].add(row['user_id'])\n",
        "\n",
        "\n",
        "userSets = dict.fromkeys(range(1,944))\n",
        "for key in userSets.keys():\n",
        "  userSets[key]=set()\n",
        "\n",
        "for index, row in trainData.iterrows():\n",
        "    if row['item_id'] not in userSets[row['user_id']]:\n",
        "      userSets[row['user_id']].add(row['item_id'])"
      ],
      "execution_count": null,
      "outputs": []
    },
    {
      "cell_type": "code",
      "metadata": {
        "id": "Oya-IzbKv76x"
      },
      "source": [
        "# Calculate Jaccard Similarity between all movies and save that as a sparse matrix\n",
        "itemItemJaccard = csr_matrix((1682, 1682), dtype=np.float)"
      ],
      "execution_count": null,
      "outputs": []
    },
    {
      "cell_type": "code",
      "metadata": {
        "id": "W17vuOuQx4G_",
        "colab": {
          "base_uri": "https://localhost:8080/"
        },
        "outputId": "2c2a5c64-27de-4bba-ff7d-d3ae00f1f1a8"
      },
      "source": [
        "def calculateJaccard(movie1,movie2):\n",
        "  intersection=len(movieSets[movie1] & movieSets[movie2])\n",
        "  union=float(len(movieSets[movie1] | movieSets[movie2]))\n",
        "  if (movie1==movie2):\n",
        "    return 0\n",
        "  if (union==0):\n",
        "    return 0\n",
        "  else:\n",
        "    return intersection/union\n",
        "\n",
        "for movie1 in range(1,1683):\n",
        "  #### Calculate jaccard between movie1 and movie2:\n",
        "  similarityScoreList = [calculateJaccard(movie1,movie2) for movie2 in range(1,1683)]\n",
        "  itemItemJaccard[movie1-1]=list(similarityScoreList)"
      ],
      "execution_count": null,
      "outputs": [
        {
          "output_type": "stream",
          "name": "stderr",
          "text": [
            "/usr/local/lib/python3.7/dist-packages/scipy/sparse/_index.py:126: SparseEfficiencyWarning: Changing the sparsity structure of a csr_matrix is expensive. lil_matrix is more efficient.\n",
            "  self._set_arrayXarray(i, j, x)\n"
          ]
        }
      ]
    },
    {
      "cell_type": "code",
      "metadata": {
        "id": "QchguqmYAnIM"
      },
      "source": [
        "########## N most similar movies rated by same user\n",
        "def MostSimilarMovies(M,movie,user,n):\n",
        "  usersMovieList=userSets[user]\n",
        "  similarMovieList=[i+1 for i in list(np.argsort(M[movie].toarray())[0][::-1])]\n",
        "  nSimilarMoviesRatedByUser=[]\n",
        "  counter=0\n",
        "  for similarMovie in similarMovieList:\n",
        "    if similarMovie in usersMovieList:\n",
        "      nSimilarMoviesRatedByUser.append(similarMovie)\n",
        "      counter+=1\n",
        "    if counter==n:\n",
        "      break\n",
        "  return nSimilarMoviesRatedByUser"
      ],
      "execution_count": null,
      "outputs": []
    },
    {
      "cell_type": "code",
      "metadata": {
        "id": "ojt1errVqdkI"
      },
      "source": [
        "########## Rating Function\n",
        "def calculateRating(M,movie,user,n):\n",
        "  listSimilarMovies=MostSimilarMovies(M,movie,user,n)\n",
        "  weightedSimilaritySum=0\n",
        "  similaritySum=0\n",
        "  for similarmovie in listSimilarMovies:\n",
        "    weightedSimilaritySum+=M[movie-1,similarmovie-1]*utilityMatrix[user-1,similarmovie-1]\n",
        "    similaritySum+=M[movie-1,similarmovie-1]\n",
        "  rating=weightedSimilaritySum/similaritySum\n",
        "  return rating"
      ],
      "execution_count": null,
      "outputs": []
    },
    {
      "cell_type": "code",
      "metadata": {
        "id": "romSImOLo0Gj"
      },
      "source": [
        "def is_relevant(rating):\n",
        "  if rating>3.5:\n",
        "    return 1\n",
        "  else:\n",
        "    return 0\n",
        "\n",
        "def average_precision_k(dataset,k=10,threshold=3):\n",
        "  # dataset['relevant_actual']=dataset['rating'].map(is_relevant)\n",
        "  # dataset['relevant_predicted']=dataset['predicted_rating'].map(is_relevant)\n",
        "  precisions=[]\n",
        "  for user in range(943):\n",
        "    dataframeUser = dataset[dataset['user_id']==user+1]\n",
        "    dataframeUserActual = dataframeUser.sort_values(by='rating',ascending=False)\n",
        "    dataframeUserPredicted = dataframeUser.sort_values(by='predicted_rating',ascending=False)\n",
        "    actualReleventSet=set()\n",
        "    predictedReleventSet=set()\n",
        "    actualCounter=0\n",
        "    predictedCounter=0\n",
        "    for index,row in dataframeUserActual.iterrows():\n",
        "      if(actualCounter==k):\n",
        "        break\n",
        "      if(row['rating']>=threshold):\n",
        "        actualCounter+=1\n",
        "        actualReleventSet.add(row['item_id'])\n",
        "    for index,row in dataframeUserPredicted.iterrows():\n",
        "      if(predictedCounter==k):\n",
        "        break\n",
        "      if(row['predicted_rating']>=threshold):\n",
        "        predictedCounter+=1\n",
        "        predictedReleventSet.add(row['item_id'])   \n",
        "    if(len(actualReleventSet)==0):\n",
        "      userPrecisionK==1\n",
        "    else:\n",
        "      userPrecisionK = len(actualReleventSet & predictedReleventSet)/len(actualReleventSet)   \n",
        "    precisions.append(userPrecisionK)\n",
        "  return sum(precisions)/len(precisions)"
      ],
      "execution_count": null,
      "outputs": []
    },
    {
      "cell_type": "code",
      "metadata": {
        "id": "I7PbP63_qH5g"
      },
      "source": [
        "testData = pd.read_csv(\"ml-100k/u1.test\",sep='\\t',names=['user_id','item_id','rating','timestamp'])"
      ],
      "execution_count": null,
      "outputs": []
    },
    {
      "cell_type": "markdown",
      "metadata": {
        "id": "3E148JzTnppf"
      },
      "source": [
        "1.1.1 Evaluation(n=2)"
      ]
    },
    {
      "cell_type": "code",
      "metadata": {
        "id": "lX0VRyLU6WBd",
        "colab": {
          "base_uri": "https://localhost:8080/"
        },
        "outputId": "b3824ebe-4b2b-4ce2-bebf-5dd140c8370e"
      },
      "source": [
        "testData['predicted_rating']=[0 for _ in range(testData.shape[0])]\n",
        "for index,row in testData.iterrows():\n",
        "    rating_=calculateRating(itemItemJaccard,row['item_id'],row['user_id'],2)\n",
        "    testData.loc[index,'predicted_rating']=rating_\n",
        "testData['predicted_rating']=testData['predicted_rating'].fillna(0)"
      ],
      "execution_count": null,
      "outputs": [
        {
          "output_type": "stream",
          "name": "stderr",
          "text": [
            "/usr/local/lib/python3.7/dist-packages/ipykernel_launcher.py:9: RuntimeWarning: invalid value encountered in double_scalars\n",
            "  if __name__ == '__main__':\n"
          ]
        }
      ]
    },
    {
      "cell_type": "markdown",
      "metadata": {
        "id": "VRFtpXH3oHfV"
      },
      "source": [
        "=>Squared Error"
      ]
    },
    {
      "cell_type": "code",
      "metadata": {
        "colab": {
          "base_uri": "https://localhost:8080/"
        },
        "id": "wY1Afc6_JuyR",
        "outputId": "332cbc59-efd8-40c0-9c37-04199d3da84c"
      },
      "source": [
        "\n",
        "mean_squared_error(testData['rating'],testData['predicted_rating'],squared=False)"
      ],
      "execution_count": null,
      "outputs": [
        {
          "output_type": "execute_result",
          "data": {
            "text/plain": [
              "1.283691844403821"
            ]
          },
          "metadata": {},
          "execution_count": 19
        }
      ]
    },
    {
      "cell_type": "markdown",
      "metadata": {
        "id": "6kzLZjFIoq9Z"
      },
      "source": [
        "=>Precision@10"
      ]
    },
    {
      "cell_type": "code",
      "metadata": {
        "colab": {
          "base_uri": "https://localhost:8080/"
        },
        "id": "u0XCvzKaoyRa",
        "outputId": "e62a3ef9-13d9-4626-a155-2b2e778224ed"
      },
      "source": [
        "average_precision_k(testData,k=10,threshold=3)"
      ],
      "execution_count": null,
      "outputs": [
        {
          "output_type": "execute_result",
          "data": {
            "text/plain": [
              "0.7358283256745608"
            ]
          },
          "metadata": {},
          "execution_count": 21
        }
      ]
    },
    {
      "cell_type": "markdown",
      "metadata": {
        "id": "IdibBI82q-0c"
      },
      "source": [
        "1.1.2 Evaluation(n=5)"
      ]
    },
    {
      "cell_type": "code",
      "metadata": {
        "colab": {
          "base_uri": "https://localhost:8080/"
        },
        "id": "1dqfmMOOq-0j",
        "outputId": "8d94e920-8a35-492b-817d-f57dee5e1688"
      },
      "source": [
        "testData['predicted_rating']=[0 for _ in range(testData.shape[0])]\n",
        "for index,row in testData.iterrows():\n",
        "    rating_=calculateRating(itemItemJaccard,row['item_id'],row['user_id'],5)\n",
        "    testData.loc[index,'predicted_rating']=rating_\n",
        "testData['predicted_rating']=testData['predicted_rating'].fillna(0)"
      ],
      "execution_count": null,
      "outputs": [
        {
          "output_type": "stream",
          "name": "stderr",
          "text": [
            "/usr/local/lib/python3.7/dist-packages/ipykernel_launcher.py:9: RuntimeWarning: invalid value encountered in double_scalars\n",
            "  if __name__ == '__main__':\n"
          ]
        }
      ]
    },
    {
      "cell_type": "markdown",
      "metadata": {
        "id": "matd-_bDq-0k"
      },
      "source": [
        "=>Squared Error"
      ]
    },
    {
      "cell_type": "code",
      "metadata": {
        "colab": {
          "base_uri": "https://localhost:8080/"
        },
        "id": "koYcZUnPq-0k",
        "outputId": "78b6d1e5-2a67-486c-b7f8-f3893ea1663b"
      },
      "source": [
        "\n",
        "mean_squared_error(testData['rating'],testData['predicted_rating'],squared=False)"
      ],
      "execution_count": null,
      "outputs": [
        {
          "output_type": "execute_result",
          "data": {
            "text/plain": [
              "1.1409504379757387"
            ]
          },
          "metadata": {},
          "execution_count": 23
        }
      ]
    },
    {
      "cell_type": "markdown",
      "metadata": {
        "id": "MDltqY8bq-0k"
      },
      "source": [
        "=>Precision@10"
      ]
    },
    {
      "cell_type": "code",
      "metadata": {
        "colab": {
          "base_uri": "https://localhost:8080/"
        },
        "id": "sm4NfDtGq-0k",
        "outputId": "b32fdf70-fad1-44ba-8b4f-32286ebd597d"
      },
      "source": [
        "average_precision_k(testData,k=10,threshold=3)"
      ],
      "execution_count": null,
      "outputs": [
        {
          "output_type": "execute_result",
          "data": {
            "text/plain": [
              "0.7421493376424447"
            ]
          },
          "metadata": {},
          "execution_count": 24
        }
      ]
    },
    {
      "cell_type": "markdown",
      "metadata": {
        "id": "GgrSFBwxsMkg"
      },
      "source": [
        "1.1.3 Evaluation(n=10)"
      ]
    },
    {
      "cell_type": "code",
      "metadata": {
        "colab": {
          "base_uri": "https://localhost:8080/"
        },
        "id": "yUMNmxc0sMkg",
        "outputId": "ff99c8f2-cab0-4964-caa3-50caa0302655"
      },
      "source": [
        "testData['predicted_rating']=[0 for _ in range(testData.shape[0])]\n",
        "for index,row in testData.iterrows():\n",
        "    rating_=calculateRating(itemItemJaccard,row['item_id'],row['user_id'],10)\n",
        "    testData.loc[index,'predicted_rating']=rating_\n",
        "testData['predicted_rating']=testData['predicted_rating'].fillna(0)"
      ],
      "execution_count": null,
      "outputs": [
        {
          "output_type": "stream",
          "name": "stderr",
          "text": [
            "/usr/local/lib/python3.7/dist-packages/ipykernel_launcher.py:9: RuntimeWarning: invalid value encountered in double_scalars\n",
            "  if __name__ == '__main__':\n"
          ]
        }
      ]
    },
    {
      "cell_type": "markdown",
      "metadata": {
        "id": "eaDICAtTsMkh"
      },
      "source": [
        "=>Squared Error"
      ]
    },
    {
      "cell_type": "code",
      "metadata": {
        "colab": {
          "base_uri": "https://localhost:8080/"
        },
        "id": "qr0ESaOWsMkh",
        "outputId": "5d6f925d-560d-450f-f9da-2f826b406f32"
      },
      "source": [
        "mean_squared_error(testData['rating'],testData['predicted_rating'],squared=False)"
      ],
      "execution_count": null,
      "outputs": [
        {
          "output_type": "execute_result",
          "data": {
            "text/plain": [
              "1.079171360219829"
            ]
          },
          "metadata": {},
          "execution_count": 26
        }
      ]
    },
    {
      "cell_type": "markdown",
      "metadata": {
        "id": "fDpn7CwhsMki"
      },
      "source": [
        "=>Precision@10"
      ]
    },
    {
      "cell_type": "code",
      "metadata": {
        "colab": {
          "base_uri": "https://localhost:8080/"
        },
        "id": "e9_JndrNsMki",
        "outputId": "8fd1861e-663c-4c1c-c2f5-ca47f9fdefbf"
      },
      "source": [
        "average_precision_k(testData,k=10,threshold=3)"
      ],
      "execution_count": null,
      "outputs": [
        {
          "output_type": "execute_result",
          "data": {
            "text/plain": [
              "0.7501317140500597"
            ]
          },
          "metadata": {},
          "execution_count": 27
        }
      ]
    },
    {
      "cell_type": "code",
      "metadata": {
        "id": "wBmMfJ56tBJO"
      },
      "source": [
        ""
      ],
      "execution_count": null,
      "outputs": []
    },
    {
      "cell_type": "code",
      "metadata": {
        "id": "DQtImZL6tB3t"
      },
      "source": [
        ""
      ],
      "execution_count": null,
      "outputs": []
    },
    {
      "cell_type": "markdown",
      "metadata": {
        "id": "5vZsOHE6tFQV"
      },
      "source": [
        "1.2 Cosine Similarity"
      ]
    },
    {
      "cell_type": "code",
      "metadata": {
        "id": "6ltQ2MqltFQW"
      },
      "source": [
        "movieSets = dict.fromkeys(range(1,1683))\n",
        "for key in movieSets.keys():\n",
        "  movieSets[key]=set()\n",
        "\n",
        "for index, row in trainData.iterrows():\n",
        "    if row['user_id'] not in movieSets[row['item_id']]:\n",
        "      movieSets[row['item_id']].add(row['user_id'])\n",
        "\n",
        "\n",
        "userSets = dict.fromkeys(range(1,944))\n",
        "for key in userSets.keys():\n",
        "  userSets[key]=set()\n",
        "\n",
        "for index, row in trainData.iterrows():\n",
        "    if row['item_id'] not in userSets[row['user_id']]:\n",
        "      userSets[row['user_id']].add(row['item_id'])"
      ],
      "execution_count": null,
      "outputs": []
    },
    {
      "cell_type": "code",
      "metadata": {
        "id": "nfSlut0otFQW"
      },
      "source": [
        "CosineSimilarity = cosine_similarity(utilityMatrix.transpose(),dense_output=False)"
      ],
      "execution_count": null,
      "outputs": []
    },
    {
      "cell_type": "markdown",
      "metadata": {
        "id": "FklEJU8ttFQX"
      },
      "source": [
        "1.2.1 Evaluation(n=2)"
      ]
    },
    {
      "cell_type": "code",
      "metadata": {
        "colab": {
          "base_uri": "https://localhost:8080/"
        },
        "id": "I6XuGO7jtFQX",
        "outputId": "06df5585-9dac-4b38-b37c-d280b7437c89"
      },
      "source": [
        "testData['predicted_rating']=[0 for _ in range(testData.shape[0])]\n",
        "for index,row in testData.iterrows():\n",
        "    rating_=calculateRating(CosineSimilarity,row['item_id'],row['user_id'],2)\n",
        "    testData.loc[index,'predicted_rating']=rating_\n",
        "testData['predicted_rating']=testData['predicted_rating'].fillna(0)"
      ],
      "execution_count": null,
      "outputs": [
        {
          "output_type": "stream",
          "name": "stderr",
          "text": [
            "/usr/local/lib/python3.7/dist-packages/ipykernel_launcher.py:9: RuntimeWarning: invalid value encountered in double_scalars\n",
            "  if __name__ == '__main__':\n"
          ]
        }
      ]
    },
    {
      "cell_type": "markdown",
      "metadata": {
        "id": "eGsKftLctFQX"
      },
      "source": [
        "=>Squared Error"
      ]
    },
    {
      "cell_type": "code",
      "metadata": {
        "colab": {
          "base_uri": "https://localhost:8080/"
        },
        "id": "BJC_anLutFQX",
        "outputId": "b12770f7-6874-4c32-c1bc-dc08a908f6dc"
      },
      "source": [
        "\n",
        "mean_squared_error(testData['rating'],testData['predicted_rating'],squared=False)"
      ],
      "execution_count": null,
      "outputs": [
        {
          "output_type": "execute_result",
          "data": {
            "text/plain": [
              "1.2756917559743732"
            ]
          },
          "metadata": {},
          "execution_count": 30
        }
      ]
    },
    {
      "cell_type": "markdown",
      "metadata": {
        "id": "ykgSdj2rtFQX"
      },
      "source": [
        "=>Precision@10"
      ]
    },
    {
      "cell_type": "code",
      "metadata": {
        "colab": {
          "base_uri": "https://localhost:8080/"
        },
        "id": "3I-ntydRtFQX",
        "outputId": "cdbc147b-03ee-4595-ad4d-623287159115"
      },
      "source": [
        "average_precision_k(testData,k=50,threshold=3)"
      ],
      "execution_count": null,
      "outputs": [
        {
          "output_type": "execute_result",
          "data": {
            "text/plain": [
              "0.22692353010486624"
            ]
          },
          "metadata": {},
          "execution_count": 31
        }
      ]
    },
    {
      "cell_type": "markdown",
      "metadata": {
        "id": "xLoM9ifztFQX"
      },
      "source": [
        "1.2.2 Evaluation(n=5)"
      ]
    },
    {
      "cell_type": "code",
      "metadata": {
        "colab": {
          "base_uri": "https://localhost:8080/"
        },
        "id": "U6Rd1VettFQX",
        "outputId": "21ccf588-75f9-4562-9fce-edd606c0e794"
      },
      "source": [
        "testData['predicted_rating']=[0 for _ in range(testData.shape[0])]\n",
        "for index,row in testData.iterrows():\n",
        "    rating_=calculateRating(CosineSimilarity,row['item_id'],row['user_id'],5)\n",
        "    testData.loc[index,'predicted_rating']=rating_\n",
        "testData['predicted_rating']=testData['predicted_rating'].fillna(0)"
      ],
      "execution_count": null,
      "outputs": [
        {
          "output_type": "stream",
          "name": "stderr",
          "text": [
            "/usr/local/lib/python3.7/dist-packages/ipykernel_launcher.py:9: RuntimeWarning: invalid value encountered in double_scalars\n",
            "  if __name__ == '__main__':\n"
          ]
        }
      ]
    },
    {
      "cell_type": "markdown",
      "metadata": {
        "id": "Ch-adsHKtFQX"
      },
      "source": [
        "=>Squared Error"
      ]
    },
    {
      "cell_type": "code",
      "metadata": {
        "colab": {
          "base_uri": "https://localhost:8080/"
        },
        "id": "ZbSqQqjwtFQX",
        "outputId": "f83b0f2a-f99c-4595-c0b6-2945ead6debb"
      },
      "source": [
        "\n",
        "mean_squared_error(testData['rating'],testData['predicted_rating'],squared=False)"
      ],
      "execution_count": null,
      "outputs": [
        {
          "output_type": "execute_result",
          "data": {
            "text/plain": [
              "1.1463560641199184"
            ]
          },
          "metadata": {},
          "execution_count": 33
        }
      ]
    },
    {
      "cell_type": "markdown",
      "metadata": {
        "id": "9piDTfxgtFQY"
      },
      "source": [
        "=>Precision@10"
      ]
    },
    {
      "cell_type": "code",
      "metadata": {
        "colab": {
          "base_uri": "https://localhost:8080/"
        },
        "id": "bsgde1EntFQY",
        "outputId": "2be9ee91-1dde-4637-9f0e-324811b28a26"
      },
      "source": [
        "average_precision_k(testData,k=10,threshold=3)"
      ],
      "execution_count": null,
      "outputs": [
        {
          "output_type": "execute_result",
          "data": {
            "text/plain": [
              "0.7436179703411943"
            ]
          },
          "metadata": {},
          "execution_count": 34
        }
      ]
    },
    {
      "cell_type": "markdown",
      "metadata": {
        "id": "Ri7-2SlztFQY"
      },
      "source": [
        "1.2.3 Evaluation(n=10)"
      ]
    },
    {
      "cell_type": "code",
      "metadata": {
        "colab": {
          "base_uri": "https://localhost:8080/"
        },
        "id": "BSa8KSzQtFQY",
        "outputId": "e52782cf-31cb-4862-ed79-2a6cc75051fd"
      },
      "source": [
        "testData['predicted_rating']=[0 for _ in range(testData.shape[0])]\n",
        "for index,row in testData.iterrows():\n",
        "    rating_=calculateRating(CosineSimilarity,row['item_id'],row['user_id'],10)\n",
        "    testData.loc[index,'predicted_rating']=rating_\n",
        "testData['predicted_rating']=testData['predicted_rating'].fillna(0)"
      ],
      "execution_count": null,
      "outputs": [
        {
          "output_type": "stream",
          "name": "stderr",
          "text": [
            "/usr/local/lib/python3.7/dist-packages/ipykernel_launcher.py:9: RuntimeWarning: invalid value encountered in double_scalars\n",
            "  if __name__ == '__main__':\n"
          ]
        }
      ]
    },
    {
      "cell_type": "markdown",
      "metadata": {
        "id": "cgUXdq8wtFQY"
      },
      "source": [
        "=>Squared Error"
      ]
    },
    {
      "cell_type": "code",
      "metadata": {
        "colab": {
          "base_uri": "https://localhost:8080/"
        },
        "id": "14Zbin0XtFQY",
        "outputId": "e2a44210-7094-4307-d646-39bb3b20fb82"
      },
      "source": [
        "mean_squared_error(testData['rating'],testData['predicted_rating'],squared=False)"
      ],
      "execution_count": null,
      "outputs": [
        {
          "output_type": "execute_result",
          "data": {
            "text/plain": [
              "1.0945642667833613"
            ]
          },
          "metadata": {},
          "execution_count": 36
        }
      ]
    },
    {
      "cell_type": "markdown",
      "metadata": {
        "id": "qgIXcEkEtFQY"
      },
      "source": [
        "=>Precision@10"
      ]
    },
    {
      "cell_type": "code",
      "metadata": {
        "colab": {
          "base_uri": "https://localhost:8080/"
        },
        "id": "_SQx-OBYtFQY",
        "outputId": "4e65c586-18b2-4416-91f4-08b517514c77"
      },
      "source": [
        "average_precision_k(testData,k=10,threshold=3)"
      ],
      "execution_count": null,
      "outputs": [
        {
          "output_type": "execute_result",
          "data": {
            "text/plain": [
              "0.7505159150970392"
            ]
          },
          "metadata": {},
          "execution_count": 37
        }
      ]
    },
    {
      "cell_type": "code",
      "metadata": {
        "id": "wavOHnhEtBQw"
      },
      "source": [
        ""
      ],
      "execution_count": null,
      "outputs": []
    },
    {
      "cell_type": "code",
      "metadata": {
        "id": "9G_pYSjHupm3"
      },
      "source": [
        ""
      ],
      "execution_count": null,
      "outputs": []
    },
    {
      "cell_type": "markdown",
      "metadata": {
        "id": "Vq9PyYvguqTl"
      },
      "source": [
        "1.3 Pearson correlation coefficient"
      ]
    },
    {
      "cell_type": "code",
      "metadata": {
        "id": "_Oov_5mKuqTm"
      },
      "source": [
        "PearsonCorrelation = pd.DataFrame(utilityMatrix.toarray()).corr(method='pearson').values\n",
        "PearsonCorrelation = sparse.csr_matrix(PearsonCorrelation)"
      ],
      "execution_count": null,
      "outputs": []
    },
    {
      "cell_type": "markdown",
      "metadata": {
        "id": "Jkz05kMtuqTm"
      },
      "source": [
        "1.3.1 Evaluation(n=2)"
      ]
    },
    {
      "cell_type": "code",
      "metadata": {
        "id": "FyQUXPo8uqTm"
      },
      "source": [
        "testData['predicted_rating']=[0 for _ in range(testData.shape[0])]\n",
        "for index,row in testData.iterrows():\n",
        "    rating_=calculateRating(PearsonCorrelation,row['item_id'],row['user_id'],2)\n",
        "    testData.loc[index,'predicted_rating']=rating_\n",
        "testData['predicted_rating']=testData['predicted_rating'].fillna(0)"
      ],
      "execution_count": null,
      "outputs": []
    },
    {
      "cell_type": "markdown",
      "metadata": {
        "id": "kfISRk8GuqTm"
      },
      "source": [
        "=>Squared Error"
      ]
    },
    {
      "cell_type": "code",
      "metadata": {
        "colab": {
          "base_uri": "https://localhost:8080/"
        },
        "id": "TL20dKGzuqTm",
        "outputId": "894fc356-56b1-4077-e99c-5a7b2b7b5f64"
      },
      "source": [
        "\n",
        "mean_squared_error(testData['rating'],testData['predicted_rating'],squared=False)"
      ],
      "execution_count": null,
      "outputs": [
        {
          "output_type": "execute_result",
          "data": {
            "text/plain": [
              "12.546825995028968"
            ]
          },
          "metadata": {},
          "execution_count": 40
        }
      ]
    },
    {
      "cell_type": "markdown",
      "metadata": {
        "id": "A3mNEor1uqTn"
      },
      "source": [
        "=>Precision@10"
      ]
    },
    {
      "cell_type": "code",
      "metadata": {
        "colab": {
          "base_uri": "https://localhost:8080/"
        },
        "id": "xWOyc4wEuqTn",
        "outputId": "8b8aa086-930c-4215-b538-b4eca1e47fca"
      },
      "source": [
        "average_precision_k(testData,k=50,threshold=3)"
      ],
      "execution_count": null,
      "outputs": [
        {
          "output_type": "execute_result",
          "data": {
            "text/plain": [
              "0.35901331166771044"
            ]
          },
          "metadata": {},
          "execution_count": 41
        }
      ]
    },
    {
      "cell_type": "markdown",
      "metadata": {
        "id": "zqGfj4vyuqTn"
      },
      "source": [
        "1.3.2 Evaluation(n=5)"
      ]
    },
    {
      "cell_type": "code",
      "metadata": {
        "id": "is58vexjuqTn"
      },
      "source": [
        "testData['predicted_rating']=[0 for _ in range(testData.shape[0])]\n",
        "for index,row in testData.iterrows():\n",
        "    rating_=calculateRating(PearsonCorrelation,row['item_id'],row['user_id'],5)\n",
        "    testData.loc[index,'predicted_rating']=rating_\n",
        "testData['predicted_rating']=testData['predicted_rating'].fillna(0)"
      ],
      "execution_count": null,
      "outputs": []
    },
    {
      "cell_type": "markdown",
      "metadata": {
        "id": "wmtUBP0FuqTn"
      },
      "source": [
        "=>Squared Error"
      ]
    },
    {
      "cell_type": "code",
      "metadata": {
        "colab": {
          "base_uri": "https://localhost:8080/"
        },
        "id": "vvhXACtJuqTn",
        "outputId": "13bbc8d3-0760-4e3e-db4c-06088e4beba8"
      },
      "source": [
        "\n",
        "mean_squared_error(testData['rating'],testData['predicted_rating'],squared=False)"
      ],
      "execution_count": null,
      "outputs": [
        {
          "output_type": "execute_result",
          "data": {
            "text/plain": [
              "4.454566102200838"
            ]
          },
          "metadata": {},
          "execution_count": 43
        }
      ]
    },
    {
      "cell_type": "markdown",
      "metadata": {
        "id": "rmb0g3xkuqTn"
      },
      "source": [
        "=>Precision@10"
      ]
    },
    {
      "cell_type": "code",
      "metadata": {
        "colab": {
          "base_uri": "https://localhost:8080/"
        },
        "id": "dN_3gWj5uqTo",
        "outputId": "fcc048ff-6848-4ec8-d373-ded8cf6d42a3"
      },
      "source": [
        "average_precision_k(testData,k=10,threshold=3)"
      ],
      "execution_count": null,
      "outputs": [
        {
          "output_type": "execute_result",
          "data": {
            "text/plain": [
              "0.23114889999831661"
            ]
          },
          "metadata": {},
          "execution_count": 44
        }
      ]
    },
    {
      "cell_type": "markdown",
      "metadata": {
        "id": "uh_kizbSuqTo"
      },
      "source": [
        "1.3.3 Evaluation(n=10)"
      ]
    },
    {
      "cell_type": "code",
      "metadata": {
        "id": "lJxPCLHjuqTo"
      },
      "source": [
        "testData['predicted_rating']=[0 for _ in range(testData.shape[0])]\n",
        "for index,row in testData.iterrows():\n",
        "    rating_=calculateRating(PearsonCorrelation,row['item_id'],row['user_id'],10)\n",
        "    testData.loc[index,'predicted_rating']=rating_\n",
        "testData['predicted_rating']=testData['predicted_rating'].fillna(0)"
      ],
      "execution_count": null,
      "outputs": []
    },
    {
      "cell_type": "markdown",
      "metadata": {
        "id": "Aov5jXR-uqTo"
      },
      "source": [
        "=>Squared Error"
      ]
    },
    {
      "cell_type": "code",
      "metadata": {
        "colab": {
          "base_uri": "https://localhost:8080/"
        },
        "id": "FdPMiyNGuqTo",
        "outputId": "65f0fd11-13dc-46b7-a5a0-96a499b81766"
      },
      "source": [
        "mean_squared_error(testData['rating'],testData['predicted_rating'],squared=False)"
      ],
      "execution_count": null,
      "outputs": [
        {
          "output_type": "execute_result",
          "data": {
            "text/plain": [
              "20.68206732667912"
            ]
          },
          "metadata": {},
          "execution_count": 46
        }
      ]
    },
    {
      "cell_type": "markdown",
      "metadata": {
        "id": "Ph7_uA3NuqTo"
      },
      "source": [
        "=>Precision@10"
      ]
    },
    {
      "cell_type": "code",
      "metadata": {
        "colab": {
          "base_uri": "https://localhost:8080/"
        },
        "id": "6Air5P_SuqTo",
        "outputId": "cf4ef3a4-1ea5-4469-f27d-173a9c3f3c00"
      },
      "source": [
        "average_precision_k(testData,k=10,threshold=3)"
      ],
      "execution_count": null,
      "outputs": [
        {
          "output_type": "execute_result",
          "data": {
            "text/plain": [
              "0.7502625864767963"
            ]
          },
          "metadata": {},
          "execution_count": 47
        }
      ]
    },
    {
      "cell_type": "code",
      "metadata": {
        "id": "ZgoWy4l_uqTo"
      },
      "source": [
        ""
      ],
      "execution_count": null,
      "outputs": []
    },
    {
      "cell_type": "code",
      "metadata": {
        "id": "6domM6EWdcUR"
      },
      "source": [
        "def np_pearson_cor(x, y):\n",
        "    xv = x - x.mean(axis=0)\n",
        "    yv = y - y.mean(axis=0)\n",
        "    xvss = (xv * xv).sum(axis=0)\n",
        "    yvss = (yv * yv).sum(axis=0)\n",
        "    result = np.matmul(xv.transpose(), yv) / np.sqrt(np.outer(xvss, yvss))\n",
        "    # bound the values to -1 to 1 in the event of precision issues\n",
        "    return np.maximum(np.minimum(result, 1.0), -1.0)"
      ],
      "execution_count": null,
      "outputs": []
    },
    {
      "cell_type": "code",
      "metadata": {
        "id": "4h_klLvWXFSQ"
      },
      "source": [
        "PearsonCorrelation = pd.DataFrame(utilityMatrix.toarray()).corr(method='pearson').values\n",
        "PearsonCorrelation = sparse.csr_matrix(PearsonCorrelation)\n"
      ],
      "execution_count": null,
      "outputs": []
    },
    {
      "cell_type": "code",
      "metadata": {
        "id": "rPZtgm9cGLkx"
      },
      "source": [
        "header=pd.MultiIndex.from_product([['Item-Item'],\n",
        "                                     ['Jaccard Similarity','Cosine Similarity','Pearson Correlation'],['RMSE','Precision@10'],['N=2','N=5','N=10']],\n",
        "                                    names=['Algorithm','Similarity Function','Metric','Neighbours'])\n",
        "resultsTable=pd.DataFrame(np.reshape(np.array([1.28,1.14,1.07,0.73,0.74,0.75,1.27,1.14,1.09,0.22,0.74,0.75,12.54,4.45,20.68,0.35,0.23,0.75]),(1,18)),columns=header)"
      ],
      "execution_count": null,
      "outputs": []
    },
    {
      "cell_type": "code",
      "metadata": {
        "colab": {
          "base_uri": "https://localhost:8080/",
          "height": 172
        },
        "id": "aNiFsXuz1C2K",
        "outputId": "1c5759fe-c1d8-46bc-fbc6-8ed8001c86e1"
      },
      "source": [
        "display(resultsTable)"
      ],
      "execution_count": null,
      "outputs": [
        {
          "output_type": "display_data",
          "data": {
            "text/html": [
              "<div>\n",
              "<style scoped>\n",
              "    .dataframe tbody tr th:only-of-type {\n",
              "        vertical-align: middle;\n",
              "    }\n",
              "\n",
              "    .dataframe tbody tr th {\n",
              "        vertical-align: top;\n",
              "    }\n",
              "\n",
              "    .dataframe thead tr th {\n",
              "        text-align: left;\n",
              "    }\n",
              "</style>\n",
              "<table border=\"1\" class=\"dataframe\">\n",
              "  <thead>\n",
              "    <tr>\n",
              "      <th>Algorithm</th>\n",
              "      <th colspan=\"18\" halign=\"left\">Item-Item</th>\n",
              "    </tr>\n",
              "    <tr>\n",
              "      <th>Similarity Function</th>\n",
              "      <th colspan=\"6\" halign=\"left\">Jaccard Similarity</th>\n",
              "      <th colspan=\"6\" halign=\"left\">Cosine Similarity</th>\n",
              "      <th colspan=\"6\" halign=\"left\">Pearson Correlation</th>\n",
              "    </tr>\n",
              "    <tr>\n",
              "      <th>Metric</th>\n",
              "      <th colspan=\"3\" halign=\"left\">RMSE</th>\n",
              "      <th colspan=\"3\" halign=\"left\">Precision@10</th>\n",
              "      <th colspan=\"3\" halign=\"left\">RMSE</th>\n",
              "      <th colspan=\"3\" halign=\"left\">Precision@10</th>\n",
              "      <th colspan=\"3\" halign=\"left\">RMSE</th>\n",
              "      <th colspan=\"3\" halign=\"left\">Precision@10</th>\n",
              "    </tr>\n",
              "    <tr>\n",
              "      <th>Neighbours</th>\n",
              "      <th>N=2</th>\n",
              "      <th>N=5</th>\n",
              "      <th>N=10</th>\n",
              "      <th>N=2</th>\n",
              "      <th>N=5</th>\n",
              "      <th>N=10</th>\n",
              "      <th>N=2</th>\n",
              "      <th>N=5</th>\n",
              "      <th>N=10</th>\n",
              "      <th>N=2</th>\n",
              "      <th>N=5</th>\n",
              "      <th>N=10</th>\n",
              "      <th>N=2</th>\n",
              "      <th>N=5</th>\n",
              "      <th>N=10</th>\n",
              "      <th>N=2</th>\n",
              "      <th>N=5</th>\n",
              "      <th>N=10</th>\n",
              "    </tr>\n",
              "  </thead>\n",
              "  <tbody>\n",
              "    <tr>\n",
              "      <th>0</th>\n",
              "      <td>1.28</td>\n",
              "      <td>1.14</td>\n",
              "      <td>1.07</td>\n",
              "      <td>0.73</td>\n",
              "      <td>0.74</td>\n",
              "      <td>0.75</td>\n",
              "      <td>1.27</td>\n",
              "      <td>1.14</td>\n",
              "      <td>1.09</td>\n",
              "      <td>0.22</td>\n",
              "      <td>0.74</td>\n",
              "      <td>0.75</td>\n",
              "      <td>12.54</td>\n",
              "      <td>4.45</td>\n",
              "      <td>20.68</td>\n",
              "      <td>0.35</td>\n",
              "      <td>0.23</td>\n",
              "      <td>0.75</td>\n",
              "    </tr>\n",
              "  </tbody>\n",
              "</table>\n",
              "</div>"
            ],
            "text/plain": [
              "Algorithm                    Item-Item              ...                                \n",
              "Similarity Function Jaccard Similarity              ... Pearson Correlation            \n",
              "Metric                            RMSE              ...        Precision@10            \n",
              "Neighbours                         N=2   N=5  N=10  ...                 N=2   N=5  N=10\n",
              "0                                 1.28  1.14  1.07  ...                0.35  0.23  0.75\n",
              "\n",
              "[1 rows x 18 columns]"
            ]
          },
          "metadata": {}
        }
      ]
    },
    {
      "cell_type": "code",
      "metadata": {
        "id": "SRwGRCX3MM3c"
      },
      "source": [
        "1.28,1.14,1.07\n",
        "0.73,0.74,0.75\n",
        "\n",
        "1.27,1.14,1.09\n",
        "0.22,0.74,0.75\n",
        "\n",
        "12.54,4.45,20.68\n",
        "0.35,0.23,0.75"
      ],
      "execution_count": null,
      "outputs": []
    },
    {
      "cell_type": "markdown",
      "metadata": {
        "id": "L4h6oa54xhfJ"
      },
      "source": [
        "2.User User Similarity"
      ]
    },
    {
      "cell_type": "markdown",
      "metadata": {
        "id": "aWHxsA5DyANk"
      },
      "source": [
        "2.1 Jaccard Similarty"
      ]
    },
    {
      "cell_type": "code",
      "metadata": {
        "id": "zfyRVOtqMroa"
      },
      "source": [
        "\n",
        "userUserJaccard = csr_matrix((942, 942), dtype=np.float)"
      ],
      "execution_count": null,
      "outputs": []
    },
    {
      "cell_type": "code",
      "metadata": {
        "id": "POcDFkxXNOck",
        "colab": {
          "base_uri": "https://localhost:8080/"
        },
        "outputId": "8539eb41-b145-4af1-982c-e160b789f38d"
      },
      "source": [
        "def calculateJaccardUserUser(user1,user2):\n",
        "  intersection=len(userSets[user1] & userSets[user2])\n",
        "  union=float(len(userSets[user1] | userSets[user2]))\n",
        "  if (user1==user2):\n",
        "    return 0\n",
        "  if (union==0):\n",
        "    return 0\n",
        "  else:\n",
        "    return intersection/union\n",
        "\n",
        "for user1 in range(1,943):\n",
        "  #### Calculate jaccard between user1 and user2:\n",
        "  similarityScoreList = [calculateJaccard(user1,user2) for user2 in range(1,943)]\n",
        "  userUserJaccard[user1-1]=list(similarityScoreList)"
      ],
      "execution_count": null,
      "outputs": [
        {
          "output_type": "stream",
          "name": "stderr",
          "text": [
            "/usr/local/lib/python3.7/dist-packages/scipy/sparse/_index.py:126: SparseEfficiencyWarning: Changing the sparsity structure of a csr_matrix is expensive. lil_matrix is more efficient.\n",
            "  self._set_arrayXarray(i, j, x)\n"
          ]
        }
      ]
    },
    {
      "cell_type": "code",
      "metadata": {
        "id": "QYemUZzUQF60"
      },
      "source": [
        "calculateJaccardUserUser.data[np.isnan(calculateJaccardUserUser.data)] = 0.5"
      ],
      "execution_count": null,
      "outputs": []
    },
    {
      "cell_type": "code",
      "metadata": {
        "colab": {
          "base_uri": "https://localhost:8080/"
        },
        "id": "Zv6_GQQHUKjW",
        "outputId": "c32a808f-e2b5-4f2e-f8af-7dbf5ee45353"
      },
      "source": [
        "userUserJaccard.shape"
      ],
      "execution_count": null,
      "outputs": [
        {
          "output_type": "execute_result",
          "data": {
            "text/plain": [
              "(942, 942)"
            ]
          },
          "metadata": {},
          "execution_count": 13
        }
      ]
    },
    {
      "cell_type": "code",
      "metadata": {
        "id": "MY8trj13oIBw"
      },
      "source": [
        "########## N most similar users who rated the same movie\n",
        "def MostSimilarUser(M,movie,user,n):\n",
        "  movieUserList=movieSets[movie]\n",
        "  similarUserList=[i+1 for i in list(np.argsort(M[user].toarray())[0][::-1])]\n",
        "  nSimilarUsersRatedMovie=[]\n",
        "  counter=0\n",
        "  for similarUser in similarUserList:\n",
        "    if similarUser in movieUserList:\n",
        "      nSimilarUsersRatedMovie.append(similarUser)\n",
        "      counter+=1\n",
        "    if counter==n:\n",
        "      break\n",
        "  return nSimilarUsersRatedMovie"
      ],
      "execution_count": null,
      "outputs": []
    },
    {
      "cell_type": "code",
      "metadata": {
        "id": "hAUBSQU8oIBx"
      },
      "source": [
        "########## Rating Function\n",
        "def calculateRatingUserUser(M,movie,user,n):\n",
        "  # listSimilarUsers=MostSimilarUser(M,movie,user,n)\n",
        "  # similarUsersRatings=0\n",
        "  # for similarUser in listSimilarUsers:\n",
        "  #   similarUsersRatings+=utilityMatrix[similarUser-1,movie-1]\n",
        "  # averageRating=similarUsersRatings/float(n)\n",
        "  # return averageRating\n",
        "  listSimilarUsers=MostSimilarUser(M,movie,user,n)\n",
        "  weightedSimilaritySum=0\n",
        "  similaritySum=0\n",
        "  for similarUser in listSimilarUsers:\n",
        "    weightedSimilaritySum+=M[user-1,similarUser-1]*utilityMatrix[similarUser-1,movie-1]\n",
        "    similaritySum+=M[user-1,similarUser-1]\n",
        "  if similaritySum==0:\n",
        "    return 0\n",
        "  rating=weightedSimilaritySum/similaritySum\n",
        "  return rating"
      ],
      "execution_count": null,
      "outputs": []
    },
    {
      "cell_type": "markdown",
      "metadata": {
        "id": "E5js1WEuyqmm"
      },
      "source": [
        "2.1.1 Evaluation(n=2)"
      ]
    },
    {
      "cell_type": "code",
      "metadata": {
        "id": "erdUa3suoIBx"
      },
      "source": [
        "testData['predicted_rating']=[0 for _ in range(testData.shape[0])]\n",
        "for index,row in testData.iterrows():\n",
        "    rating_=calculateRatingUserUser(userUserJaccard,row['item_id'],row['user_id'],2)\n",
        "    testData.loc[index,'predicted_rating']=rating_\n",
        "testData['predicted_rating']=testData['predicted_rating'].fillna(0)"
      ],
      "execution_count": null,
      "outputs": []
    },
    {
      "cell_type": "code",
      "metadata": {
        "id": "L2yx3xX1oIBy"
      },
      "source": [
        ""
      ],
      "execution_count": null,
      "outputs": []
    },
    {
      "cell_type": "markdown",
      "metadata": {
        "id": "Vq9qr5Dw0eIr"
      },
      "source": [
        "=> Mean Squared Error"
      ]
    },
    {
      "cell_type": "code",
      "metadata": {
        "colab": {
          "base_uri": "https://localhost:8080/"
        },
        "id": "p1cEhU4aoIBy",
        "outputId": "e7ed5543-01a4-4f21-e541-7985afab9ed2"
      },
      "source": [
        "\n",
        "mean_squared_error(testData['rating'],testData['predicted_rating'],squared=False)"
      ],
      "execution_count": null,
      "outputs": [
        {
          "output_type": "execute_result",
          "data": {
            "text/plain": [
              "1.2757607552645365"
            ]
          },
          "metadata": {},
          "execution_count": 64
        }
      ]
    },
    {
      "cell_type": "markdown",
      "metadata": {
        "id": "JTT-QFj30k0a"
      },
      "source": [
        "=>Precision@10"
      ]
    },
    {
      "cell_type": "code",
      "metadata": {
        "id": "wz2atcB4oIB0",
        "colab": {
          "base_uri": "https://localhost:8080/"
        },
        "outputId": "57f26646-e436-4351-d2aa-f2afad978040"
      },
      "source": [
        "average_precision_k(testData,k=10)"
      ],
      "execution_count": null,
      "outputs": [
        {
          "output_type": "execute_result",
          "data": {
            "text/plain": [
              "0.23536080391859804"
            ]
          },
          "metadata": {},
          "execution_count": 65
        }
      ]
    },
    {
      "cell_type": "code",
      "metadata": {
        "id": "EBw6ppRPoIB1"
      },
      "source": [
        ""
      ],
      "execution_count": null,
      "outputs": []
    },
    {
      "cell_type": "markdown",
      "metadata": {
        "id": "j-3_rx0qpCo9"
      },
      "source": [
        "2.1.2 Evaluation(n=5)"
      ]
    },
    {
      "cell_type": "code",
      "metadata": {
        "id": "PaZsDc0vpCo-"
      },
      "source": [
        "testData['predicted_rating']=[0 for _ in range(testData.shape[0])]\n",
        "for index,row in testData.iterrows():\n",
        "    rating_=calculateRatingUserUser(userUserJaccard,row['item_id'],row['user_id'],5)\n",
        "    testData.loc[index,'predicted_rating']=rating_\n",
        "testData['predicted_rating']=testData['predicted_rating'].fillna(0)"
      ],
      "execution_count": null,
      "outputs": []
    },
    {
      "cell_type": "code",
      "metadata": {
        "id": "pMFp3mJkpCo-"
      },
      "source": [
        ""
      ],
      "execution_count": null,
      "outputs": []
    },
    {
      "cell_type": "markdown",
      "metadata": {
        "id": "--AwOWLspCo_"
      },
      "source": [
        "=> Mean Squared Error"
      ]
    },
    {
      "cell_type": "code",
      "metadata": {
        "colab": {
          "base_uri": "https://localhost:8080/"
        },
        "id": "Fpu6dVaVpCo_",
        "outputId": "c5887899-9e10-481f-feb3-0fd0b25239d7"
      },
      "source": [
        "\n",
        "mean_squared_error(testData['rating'],testData['predicted_rating'],squared=False)"
      ],
      "execution_count": null,
      "outputs": [
        {
          "output_type": "execute_result",
          "data": {
            "text/plain": [
              "1.134489614633833"
            ]
          },
          "metadata": {},
          "execution_count": 20
        }
      ]
    },
    {
      "cell_type": "markdown",
      "metadata": {
        "id": "KN55vJd6pCpA"
      },
      "source": [
        "=>Precision@10"
      ]
    },
    {
      "cell_type": "code",
      "metadata": {
        "colab": {
          "base_uri": "https://localhost:8080/"
        },
        "id": "euhl7vVvpCpA",
        "outputId": "8f7a2c45-8c51-4b94-f93c-cd3dc1794534"
      },
      "source": [
        "average_precision_k(testData,k=10)"
      ],
      "execution_count": null,
      "outputs": [
        {
          "output_type": "execute_result",
          "data": {
            "text/plain": [
              "0.2399421804777055"
            ]
          },
          "metadata": {},
          "execution_count": 23
        }
      ]
    },
    {
      "cell_type": "code",
      "metadata": {
        "id": "7h-4s8Mmp8ly"
      },
      "source": [
        ""
      ],
      "execution_count": null,
      "outputs": []
    },
    {
      "cell_type": "code",
      "metadata": {
        "id": "iLehkaubp9Os"
      },
      "source": [
        ""
      ],
      "execution_count": null,
      "outputs": []
    },
    {
      "cell_type": "markdown",
      "metadata": {
        "id": "gJyOk4ZGp-Ci"
      },
      "source": [
        "2.1.3 Evaluation(n=10)"
      ]
    },
    {
      "cell_type": "code",
      "metadata": {
        "id": "zOhe5VRPp-Ci"
      },
      "source": [
        "testData['predicted_rating']=[0 for _ in range(testData.shape[0])]\n",
        "for index,row in testData.iterrows():\n",
        "    rating_=calculateRatingUserUser(userUserJaccard,row['item_id'],row['user_id'],10)\n",
        "    testData.loc[index,'predicted_rating']=rating_\n",
        "testData['predicted_rating']=testData['predicted_rating'].fillna(0)"
      ],
      "execution_count": null,
      "outputs": []
    },
    {
      "cell_type": "markdown",
      "metadata": {
        "id": "eZSg8O7Pp-Cj"
      },
      "source": [
        "=> Mean Squared Error"
      ]
    },
    {
      "cell_type": "code",
      "metadata": {
        "colab": {
          "base_uri": "https://localhost:8080/"
        },
        "id": "f7wbWDl7p-Cj",
        "outputId": "0bce3ca7-bbdd-4096-d9f6-b456863d71cd"
      },
      "source": [
        "\n",
        "mean_squared_error(testData['rating'],testData['predicted_rating'],squared=False)"
      ],
      "execution_count": null,
      "outputs": [
        {
          "output_type": "execute_result",
          "data": {
            "text/plain": [
              "1.0816563629240898"
            ]
          },
          "metadata": {},
          "execution_count": 26
        }
      ]
    },
    {
      "cell_type": "markdown",
      "metadata": {
        "id": "XYQZAtg1p-Cj"
      },
      "source": [
        "=>Precision@10"
      ]
    },
    {
      "cell_type": "code",
      "metadata": {
        "colab": {
          "base_uri": "https://localhost:8080/"
        },
        "id": "_sNAivf_p-Cj",
        "outputId": "e8fe74c3-14a8-48fe-bbf3-49a3952ee7f7"
      },
      "source": [
        "average_precision_k(testData,k=10)"
      ],
      "execution_count": null,
      "outputs": [
        {
          "output_type": "execute_result",
          "data": {
            "text/plain": [
              "0.25067498190509846"
            ]
          },
          "metadata": {},
          "execution_count": 27
        }
      ]
    },
    {
      "cell_type": "markdown",
      "metadata": {
        "id": "FfGG5m7VnvqV"
      },
      "source": [
        "**2.2 Cosine Similarity**"
      ]
    },
    {
      "cell_type": "code",
      "metadata": {
        "id": "_RFFcagCoIB1"
      },
      "source": [
        "CosineSimilarity = cosine_similarity(utilityMatrix,dense_output=False)"
      ],
      "execution_count": null,
      "outputs": []
    },
    {
      "cell_type": "markdown",
      "metadata": {
        "id": "ch3VEcaTq1tJ"
      },
      "source": [
        "2.2.1 Evaluation(n=2)"
      ]
    },
    {
      "cell_type": "code",
      "metadata": {
        "id": "9_RBvWSOoIB1"
      },
      "source": [
        "testData['predicted_rating']=[0 for _ in range(testData.shape[0])]\n",
        "for index,row in testData.iterrows():\n",
        "    rating_=calculateRatingUserUser(CosineSimilarity,row['item_id'],row['user_id'],2)\n",
        "    testData.loc[index,'predicted_rating']=rating_\n",
        "testData['predicted_rating']=testData['predicted_rating'].fillna(0)"
      ],
      "execution_count": null,
      "outputs": []
    },
    {
      "cell_type": "markdown",
      "metadata": {
        "id": "X7Yx2UBuq_4K"
      },
      "source": [
        "===> Root mean Squared"
      ]
    },
    {
      "cell_type": "code",
      "metadata": {
        "colab": {
          "base_uri": "https://localhost:8080/"
        },
        "id": "5Yi5E2KqoIB2",
        "outputId": "86dcd688-67da-46a5-f5ea-11a69519da6f"
      },
      "source": [
        "## n=2\n",
        "mean_squared_error(testData['rating'],testData['predicted_rating'],squared=False)"
      ],
      "execution_count": null,
      "outputs": [
        {
          "output_type": "execute_result",
          "data": {
            "text/plain": [
              "1.2638535178880494"
            ]
          },
          "metadata": {},
          "execution_count": 30
        }
      ]
    },
    {
      "cell_type": "markdown",
      "metadata": {
        "id": "yW7EqsYErFB1"
      },
      "source": [
        "===> Precision @10"
      ]
    },
    {
      "cell_type": "code",
      "metadata": {
        "id": "9CMyVXE6oIB3",
        "colab": {
          "base_uri": "https://localhost:8080/"
        },
        "outputId": "39f6a822-5c22-4ecc-da61-915d473644df"
      },
      "source": [
        "average_precision_k(testData,k=10)"
      ],
      "execution_count": null,
      "outputs": [
        {
          "output_type": "execute_result",
          "data": {
            "text/plain": [
              "0.23558341328754914"
            ]
          },
          "metadata": {},
          "execution_count": 31
        }
      ]
    },
    {
      "cell_type": "code",
      "metadata": {
        "id": "TeJGpXyvro40"
      },
      "source": [
        ""
      ],
      "execution_count": null,
      "outputs": []
    },
    {
      "cell_type": "markdown",
      "metadata": {
        "id": "igF0Ipndrr_u"
      },
      "source": [
        "2.2.2 Evaluation(n=5)"
      ]
    },
    {
      "cell_type": "code",
      "metadata": {
        "id": "5tLVuWu4rr_v"
      },
      "source": [
        "testData['predicted_rating']=[0 for _ in range(testData.shape[0])]\n",
        "for index,row in testData.iterrows():\n",
        "    rating_=calculateRatingUserUser(CosineSimilarity,row['item_id'],row['user_id'],5)\n",
        "    testData.loc[index,'predicted_rating']=rating_\n",
        "testData['predicted_rating']=testData['predicted_rating'].fillna(0)"
      ],
      "execution_count": null,
      "outputs": []
    },
    {
      "cell_type": "markdown",
      "metadata": {
        "id": "l2zJP12xrr_v"
      },
      "source": [
        "===> Root mean Squared"
      ]
    },
    {
      "cell_type": "code",
      "metadata": {
        "colab": {
          "base_uri": "https://localhost:8080/"
        },
        "id": "cZo8TYq0rr_w",
        "outputId": "0285e660-803b-4206-a8ed-9b791b6f7585"
      },
      "source": [
        "mean_squared_error(testData['rating'],testData['predicted_rating'],squared=False)"
      ],
      "execution_count": null,
      "outputs": [
        {
          "output_type": "execute_result",
          "data": {
            "text/plain": [
              "1.1342784639157588"
            ]
          },
          "metadata": {},
          "execution_count": 33
        }
      ]
    },
    {
      "cell_type": "markdown",
      "metadata": {
        "id": "DsB_Lzxmrr_w"
      },
      "source": [
        "===> Precision @10"
      ]
    },
    {
      "cell_type": "code",
      "metadata": {
        "colab": {
          "base_uri": "https://localhost:8080/"
        },
        "id": "pRY1OTPyrr_w",
        "outputId": "36e44438-bc75-4c3e-cfe1-620eb03254a2"
      },
      "source": [
        "average_precision_k(testData,k=10)"
      ],
      "execution_count": null,
      "outputs": [
        {
          "output_type": "execute_result",
          "data": {
            "text/plain": [
              "0.7526502718443331"
            ]
          },
          "metadata": {},
          "execution_count": 34
        }
      ]
    },
    {
      "cell_type": "code",
      "metadata": {
        "id": "wBpi_spIro_Q"
      },
      "source": [
        ""
      ],
      "execution_count": null,
      "outputs": []
    },
    {
      "cell_type": "markdown",
      "metadata": {
        "id": "zh-s9ELyr8Bc"
      },
      "source": [
        "2.2.3 Evaluation(n=10)"
      ]
    },
    {
      "cell_type": "code",
      "metadata": {
        "id": "zF0daZ8Nr8Bc"
      },
      "source": [
        "testData['predicted_rating']=[0 for _ in range(testData.shape[0])]\n",
        "for index,row in testData.iterrows():\n",
        "    rating_=calculateRatingUserUser(CosineSimilarity,row['item_id'],row['user_id'],10)\n",
        "    testData.loc[index,'predicted_rating']=rating_\n",
        "testData['predicted_rating']=testData['predicted_rating'].fillna(0)"
      ],
      "execution_count": null,
      "outputs": []
    },
    {
      "cell_type": "markdown",
      "metadata": {
        "id": "lGipZDCQr8Bc"
      },
      "source": [
        "===> Root mean Squared"
      ]
    },
    {
      "cell_type": "code",
      "metadata": {
        "colab": {
          "base_uri": "https://localhost:8080/"
        },
        "id": "_XU9ZqR9r8Bc",
        "outputId": "50a31cac-0147-4468-f395-45b4fdcb9510"
      },
      "source": [
        "mean_squared_error(testData['rating'],testData['predicted_rating'],squared=False)"
      ],
      "execution_count": null,
      "outputs": [
        {
          "output_type": "execute_result",
          "data": {
            "text/plain": [
              "1.0841042327720172"
            ]
          },
          "metadata": {},
          "execution_count": 42
        }
      ]
    },
    {
      "cell_type": "markdown",
      "metadata": {
        "id": "3Ay3yegpr8Bd"
      },
      "source": [
        "===> Precision @10"
      ]
    },
    {
      "cell_type": "code",
      "metadata": {
        "colab": {
          "base_uri": "https://localhost:8080/"
        },
        "id": "-lWsezbFr8Bd",
        "outputId": "3cf36ef3-7f1c-4a5a-c30a-85215acf5528"
      },
      "source": [
        "average_precision_k(testData,k=10)"
      ],
      "execution_count": null,
      "outputs": [
        {
          "output_type": "execute_result",
          "data": {
            "text/plain": [
              "0.2497180561867731"
            ]
          },
          "metadata": {},
          "execution_count": 43
        }
      ]
    },
    {
      "cell_type": "code",
      "metadata": {
        "id": "stSdjEywrpCO"
      },
      "source": [
        ""
      ],
      "execution_count": null,
      "outputs": []
    },
    {
      "cell_type": "code",
      "metadata": {
        "id": "rIQScBdlrpGb"
      },
      "source": [
        ""
      ],
      "execution_count": null,
      "outputs": []
    },
    {
      "cell_type": "markdown",
      "metadata": {
        "id": "ckMk2sW8tJRf"
      },
      "source": [
        "**2.3 Pearson Correlation**"
      ]
    },
    {
      "cell_type": "code",
      "metadata": {
        "id": "XzXS7KXRrpTq"
      },
      "source": [
        "PearsonCorrelation = pd.DataFrame(utilityMatrix.transpose().toarray()).corr(method='pearson').values\n",
        "PearsonCorrelation = sparse.csr_matrix(PearsonCorrelation)"
      ],
      "execution_count": null,
      "outputs": []
    },
    {
      "cell_type": "markdown",
      "metadata": {
        "id": "jls_TEzZtl5J"
      },
      "source": [
        "2.3.1 Evaluation(n=2)"
      ]
    },
    {
      "cell_type": "code",
      "metadata": {
        "id": "TIl8myJjtl5K"
      },
      "source": [
        "testData['predicted_rating']=[0 for _ in range(testData.shape[0])]\n",
        "for index,row in testData.iterrows():\n",
        "    rating_=calculateRatingUserUser(PearsonCorrelation,row['item_id'],row['user_id'],2)\n",
        "    testData.loc[index,'predicted_rating']=rating_\n",
        "testData['predicted_rating']=testData['predicted_rating'].fillna(0)"
      ],
      "execution_count": null,
      "outputs": []
    },
    {
      "cell_type": "markdown",
      "metadata": {
        "id": "blxhb1X1tl5K"
      },
      "source": [
        "===> Root mean Squared"
      ]
    },
    {
      "cell_type": "code",
      "metadata": {
        "colab": {
          "base_uri": "https://localhost:8080/"
        },
        "id": "G3H4Ieb8tl5K",
        "outputId": "3bc2618e-0478-46e2-bf50-11edd806d622"
      },
      "source": [
        "## n=2\n",
        "mean_squared_error(testData['rating'],testData['predicted_rating'],squared=False)"
      ],
      "execution_count": null,
      "outputs": [
        {
          "output_type": "execute_result",
          "data": {
            "text/plain": [
              "2.065238576055945"
            ]
          },
          "metadata": {},
          "execution_count": 46
        }
      ]
    },
    {
      "cell_type": "markdown",
      "metadata": {
        "id": "Oyo9Kyzxtl5L"
      },
      "source": [
        "===> Precision @10"
      ]
    },
    {
      "cell_type": "code",
      "metadata": {
        "colab": {
          "base_uri": "https://localhost:8080/"
        },
        "id": "ZegMKPC0tl5L",
        "outputId": "6f698986-c1ba-43f3-c7cb-2a8c7864a7b6"
      },
      "source": [
        "average_precision_k(testData,k=10)"
      ],
      "execution_count": null,
      "outputs": [
        {
          "output_type": "execute_result",
          "data": {
            "text/plain": [
              "0.2323141274891008"
            ]
          },
          "metadata": {},
          "execution_count": 47
        }
      ]
    },
    {
      "cell_type": "code",
      "metadata": {
        "id": "C0yBYv3ct2mC"
      },
      "source": [
        ""
      ],
      "execution_count": null,
      "outputs": []
    },
    {
      "cell_type": "markdown",
      "metadata": {
        "id": "1IROYQKRt36j"
      },
      "source": [
        "2.3.2 Evaluation(n=5)"
      ]
    },
    {
      "cell_type": "code",
      "metadata": {
        "id": "bB9QrFeet36k"
      },
      "source": [
        "testData['predicted_rating']=[0 for _ in range(testData.shape[0])]\n",
        "for index,row in testData.iterrows():\n",
        "    rating_=calculateRatingUserUser(PearsonCorrelation,row['item_id'],row['user_id'],5)\n",
        "    testData.loc[index,'predicted_rating']=rating_\n",
        "testData['predicted_rating']=testData['predicted_rating'].fillna(0)"
      ],
      "execution_count": null,
      "outputs": []
    },
    {
      "cell_type": "markdown",
      "metadata": {
        "id": "IYmEbv-ht36k"
      },
      "source": [
        "===> Root mean Squared"
      ]
    },
    {
      "cell_type": "code",
      "metadata": {
        "colab": {
          "base_uri": "https://localhost:8080/"
        },
        "id": "WqiCgPBTt36l",
        "outputId": "b063ed82-d525-43c5-bdae-74d7005fd88b"
      },
      "source": [
        "## n=2\n",
        "mean_squared_error(testData['rating'],testData['predicted_rating'],squared=False)"
      ],
      "execution_count": null,
      "outputs": [
        {
          "output_type": "execute_result",
          "data": {
            "text/plain": [
              "1.720197037003922"
            ]
          },
          "metadata": {},
          "execution_count": 49
        }
      ]
    },
    {
      "cell_type": "markdown",
      "metadata": {
        "id": "BY6pO-vut36l"
      },
      "source": [
        "===> Precision @10"
      ]
    },
    {
      "cell_type": "code",
      "metadata": {
        "colab": {
          "base_uri": "https://localhost:8080/"
        },
        "id": "kaTfVmY3t36m",
        "outputId": "1db6728d-1464-460e-e05b-016dd87f27b0"
      },
      "source": [
        "average_precision_k(testData,k=10)"
      ],
      "execution_count": null,
      "outputs": [
        {
          "output_type": "execute_result",
          "data": {
            "text/plain": [
              "0.7544955309801544"
            ]
          },
          "metadata": {},
          "execution_count": 50
        }
      ]
    },
    {
      "cell_type": "code",
      "metadata": {
        "id": "9x1Zl6AQt89M"
      },
      "source": [
        ""
      ],
      "execution_count": null,
      "outputs": []
    },
    {
      "cell_type": "code",
      "metadata": {
        "id": "-pNenfABt9Dj"
      },
      "source": [
        ""
      ],
      "execution_count": null,
      "outputs": []
    },
    {
      "cell_type": "markdown",
      "metadata": {
        "id": "h52sFKLUt9qX"
      },
      "source": [
        "2.3.3 Evaluation(n=10)"
      ]
    },
    {
      "cell_type": "code",
      "metadata": {
        "id": "PtVUP5znt9qX"
      },
      "source": [
        "testData['predicted_rating']=[0 for _ in range(testData.shape[0])]\n",
        "for index,row in testData.iterrows():\n",
        "    rating_=calculateRatingUserUser(PearsonCorrelation,row['item_id'],row['user_id'],10)\n",
        "    testData.loc[index,'predicted_rating']=rating_\n",
        "testData['predicted_rating']=testData['predicted_rating'].fillna(0)"
      ],
      "execution_count": null,
      "outputs": []
    },
    {
      "cell_type": "markdown",
      "metadata": {
        "id": "L31nMJVvt9qY"
      },
      "source": [
        "===> Root mean Squared"
      ]
    },
    {
      "cell_type": "code",
      "metadata": {
        "colab": {
          "base_uri": "https://localhost:8080/"
        },
        "id": "P7bqTymht9qZ",
        "outputId": "d046f13e-e076-46f5-fd41-ca75704814df"
      },
      "source": [
        "## n=2\n",
        "mean_squared_error(testData['rating'],testData['predicted_rating'],squared=False)"
      ],
      "execution_count": null,
      "outputs": [
        {
          "output_type": "execute_result",
          "data": {
            "text/plain": [
              "1.2498001960098646"
            ]
          },
          "metadata": {},
          "execution_count": 52
        }
      ]
    },
    {
      "cell_type": "markdown",
      "metadata": {
        "id": "GQxgo6_lt9qZ"
      },
      "source": [
        "===> Precision @10"
      ]
    },
    {
      "cell_type": "code",
      "metadata": {
        "colab": {
          "base_uri": "https://localhost:8080/"
        },
        "id": "l-UUHwmDt9qZ",
        "outputId": "ed82243d-1b7b-4fd8-d282-562c361eda4c"
      },
      "source": [
        "average_precision_k(testData,k=10)"
      ],
      "execution_count": null,
      "outputs": [
        {
          "output_type": "execute_result",
          "data": {
            "text/plain": [
              "0.2500639633725531"
            ]
          },
          "metadata": {},
          "execution_count": 53
        }
      ]
    },
    {
      "cell_type": "code",
      "metadata": {
        "id": "IdC3tw2Jurqz"
      },
      "source": [
        ""
      ],
      "execution_count": null,
      "outputs": []
    },
    {
      "cell_type": "code",
      "metadata": {
        "id": "p86Vxm6f1Pw0"
      },
      "source": [
        "header=pd.MultiIndex.from_product([['User-User'],\n",
        "                                     ['Jaccard Similarity','Cosine Similarity','Pearson Correlation'],['RMSE','Precision@10'],['N=2','N=5','N=10']],\n",
        "                                    names=['Algorithm','Similarity Function','Metric','Neighbours'])\n",
        "resultsTable=pd.DataFrame(np.reshape(np.array([1.27,1.13,1.08,0.23,0.23,0.25,1.26,1.13,1.08,0.23,0.75,0.24,2.06,1.72,1.24,0.23,0.75,0.25]),(1,18)),columns=header)"
      ],
      "execution_count": null,
      "outputs": []
    },
    {
      "cell_type": "code",
      "metadata": {
        "colab": {
          "base_uri": "https://localhost:8080/",
          "height": 172
        },
        "id": "SkDoZbT02J30",
        "outputId": "2862b1df-da28-4f4e-bd6a-79de7e8b6eb4"
      },
      "source": [
        "display(resultsTable)"
      ],
      "execution_count": null,
      "outputs": [
        {
          "output_type": "display_data",
          "data": {
            "text/html": [
              "<div>\n",
              "<style scoped>\n",
              "    .dataframe tbody tr th:only-of-type {\n",
              "        vertical-align: middle;\n",
              "    }\n",
              "\n",
              "    .dataframe tbody tr th {\n",
              "        vertical-align: top;\n",
              "    }\n",
              "\n",
              "    .dataframe thead tr th {\n",
              "        text-align: left;\n",
              "    }\n",
              "</style>\n",
              "<table border=\"1\" class=\"dataframe\">\n",
              "  <thead>\n",
              "    <tr>\n",
              "      <th>Algorithm</th>\n",
              "      <th colspan=\"18\" halign=\"left\">User-User</th>\n",
              "    </tr>\n",
              "    <tr>\n",
              "      <th>Similarity Function</th>\n",
              "      <th colspan=\"6\" halign=\"left\">Jaccard Similarity</th>\n",
              "      <th colspan=\"6\" halign=\"left\">Cosine Similarity</th>\n",
              "      <th colspan=\"6\" halign=\"left\">Pearson Correlation</th>\n",
              "    </tr>\n",
              "    <tr>\n",
              "      <th>Metric</th>\n",
              "      <th colspan=\"3\" halign=\"left\">RMSE</th>\n",
              "      <th colspan=\"3\" halign=\"left\">Precision@10</th>\n",
              "      <th colspan=\"3\" halign=\"left\">RMSE</th>\n",
              "      <th colspan=\"3\" halign=\"left\">Precision@10</th>\n",
              "      <th colspan=\"3\" halign=\"left\">RMSE</th>\n",
              "      <th colspan=\"3\" halign=\"left\">Precision@10</th>\n",
              "    </tr>\n",
              "    <tr>\n",
              "      <th>Neighbours</th>\n",
              "      <th>N=2</th>\n",
              "      <th>N=5</th>\n",
              "      <th>N=10</th>\n",
              "      <th>N=2</th>\n",
              "      <th>N=5</th>\n",
              "      <th>N=10</th>\n",
              "      <th>N=2</th>\n",
              "      <th>N=5</th>\n",
              "      <th>N=10</th>\n",
              "      <th>N=2</th>\n",
              "      <th>N=5</th>\n",
              "      <th>N=10</th>\n",
              "      <th>N=2</th>\n",
              "      <th>N=5</th>\n",
              "      <th>N=10</th>\n",
              "      <th>N=2</th>\n",
              "      <th>N=5</th>\n",
              "      <th>N=10</th>\n",
              "    </tr>\n",
              "  </thead>\n",
              "  <tbody>\n",
              "    <tr>\n",
              "      <th>0</th>\n",
              "      <td>1.27</td>\n",
              "      <td>1.13</td>\n",
              "      <td>1.08</td>\n",
              "      <td>0.23</td>\n",
              "      <td>0.23</td>\n",
              "      <td>0.25</td>\n",
              "      <td>1.26</td>\n",
              "      <td>1.13</td>\n",
              "      <td>1.08</td>\n",
              "      <td>0.23</td>\n",
              "      <td>0.75</td>\n",
              "      <td>0.24</td>\n",
              "      <td>2.06</td>\n",
              "      <td>1.72</td>\n",
              "      <td>1.24</td>\n",
              "      <td>0.23</td>\n",
              "      <td>0.75</td>\n",
              "      <td>0.25</td>\n",
              "    </tr>\n",
              "  </tbody>\n",
              "</table>\n",
              "</div>"
            ],
            "text/plain": [
              "Algorithm                    User-User              ...                                \n",
              "Similarity Function Jaccard Similarity              ... Pearson Correlation            \n",
              "Metric                            RMSE              ...        Precision@10            \n",
              "Neighbours                         N=2   N=5  N=10  ...                 N=2   N=5  N=10\n",
              "0                                 1.27  1.13  1.08  ...                0.23  0.75  0.25\n",
              "\n",
              "[1 rows x 18 columns]"
            ]
          },
          "metadata": {}
        }
      ]
    },
    {
      "cell_type": "code",
      "metadata": {
        "id": "8BgaF_8L-Bxc"
      },
      "source": [
        ""
      ],
      "execution_count": null,
      "outputs": []
    }
  ]
}